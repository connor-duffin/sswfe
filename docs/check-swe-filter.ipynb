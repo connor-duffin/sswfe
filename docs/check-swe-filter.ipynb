{
 "cells": [
  {
   "cell_type": "code",
   "execution_count": 1,
   "id": "018ec486-9ba9-46be-b7a5-830215eb8b07",
   "metadata": {},
   "outputs": [
    {
     "name": "stderr",
     "output_type": "stream",
     "text": [
      "hwloc/linux: Ignoring PCI device with non-16bit domain.\n",
      "Pass --enable-32bits-pci-domain to configure to support such devices\n",
      "(warning: it would break the library ABI, don't enable unless really needed).\n"
     ]
    }
   ],
   "source": [
    "import h5py\n",
    "\n",
    "import numpy as np\n",
    "import matplotlib.pyplot as plt\n",
    "import fenics as fe\n",
    "\n",
    "from tqdm import trange\n",
    "from numpy.testing import assert_allclose\n",
    "\n",
    "import sys\n",
    "\n",
    "sys.path.insert(0, \"../scripts\")\n",
    "\n",
    "from swe_2d import ShallowTwo, ShallowTwoFilter\n",
    "from statfenics.utils import build_observation_operator\n",
    "\n",
    "fe.set_log_level(50)"
   ]
  },
  {
   "cell_type": "code",
   "execution_count": 2,
   "id": "3125dabf-a93d-4d0d-93a5-af3352423371",
   "metadata": {},
   "outputs": [],
   "source": [
    "# physical constants\n",
    "period = 120.\n",
    "nu = 1e-6\n",
    "g = 9.8\n",
    "\n",
    "# reference values\n",
    "u_ref = 0.01  # cm/s\n",
    "length_ref = 0.1  # cylinder\n",
    "time_ref = length_ref / u_ref\n",
    "H_ref = length_ref\n",
    "\n",
    "# compute reynolds number\n",
    "Re = u_ref * length_ref / nu\n",
    "\n",
    "params = dict(\n",
    "    nu=1 / Re,\n",
    "    g=g * H_ref / u_ref**2,\n",
    "    C=0.,\n",
    "    H=0.053 / H_ref,\n",
    "    u_inflow=0.004 / u_ref,\n",
    "    inflow_period=period / time_ref)\n",
    "control = dict(\n",
    "    dt=5e-2,\n",
    "    theta=0.5,\n",
    "    simulation=\"cylinder\",\n",
    "    use_imex=False,\n",
    "    use_les=False)\n",
    "sigma_y = 0.05 * params[\"u_inflow\"]\n",
    "\n",
    "comm = fe.MPI.comm_world\n",
    "mesh = \"../mesh/branson-mesh-nondim.xdmf\"\n",
    "swe = ShallowTwoFilter(mesh, params, control, comm)\n",
    "assert swe.L == 20.\n",
    "assert swe.B == 5.\n",
    "\n",
    "# check that all the dofs line up\n",
    "assert_allclose(np.unique(swe.W.dofmap().dofs()),\n",
    "                np.unique(np.concatenate((swe.u_dofs,\n",
    "                                          swe.v_dofs,\n",
    "                                          swe.h_dofs))))\n",
    "swe.setup_form()\n",
    "swe.setup_solver()"
   ]
  },
  {
   "cell_type": "code",
   "execution_count": 3,
   "id": "a992c192-ade8-40cd-9fdc-83f6f76f9378",
   "metadata": {},
   "outputs": [
    {
     "name": "stdout",
     "output_type": "stream",
     "text": [
      "(191, 2)\n"
     ]
    },
    {
     "data": {
      "image/png": "[encoded data removed]",
      "text/plain": [
       "<Figure size 432x288 with 1 Axes>"
      ]
     },
     "metadata": {
      "needs_background": "light"
     },
     "output_type": "display_data"
    }
   ],
   "source": [
    "data_file = \"../data/run-8-synthetic-data-nondim.h5\"\n",
    "\n",
    "with h5py.File(data_file, \"r\") as f:\n",
    "    t_data = f[\"t\"][:]\n",
    "    x_data = f[\"x\"][:]\n",
    "    u_data = f[\"u\"][:]\n",
    "    v_data = f[\"v\"][:]\n",
    "    \n",
    "mask_obs = x_data[:, 0] >= 13.\n",
    "x_obs = x_data[mask_obs, :][::20]\n",
    "print(x_obs.shape)\n",
    "\n",
    "plt.plot(x_obs[:, 0], x_obs[:, 1], \"o\")\n",
    "Hu = build_observation_operator(x_obs, swe.W, sub=(0, 0))\n",
    "Hv = build_observation_operator(x_obs, swe.W, sub=(0, 1))"
   ]
  },
  {
   "cell_type": "code",
   "execution_count": 4,
   "id": "050672eb-8f83-4756-9030-e21eb4b62d60",
   "metadata": {},
   "outputs": [
    {
     "name": "stdout",
     "output_type": "stream",
     "text": [
      "(382, 140763)\n"
     ]
    }
   ],
   "source": [
    "from scipy.sparse import vstack\n",
    "\n",
    "H = vstack((Hu, Hv))\n",
    "print(H.shape)"
   ]
  },
  {
   "cell_type": "code",
   "execution_count": 5,
   "id": "3f6e5083-01d8-40cc-af7e-fed8e86cc865",
   "metadata": {},
   "outputs": [
    {
     "name": "stdout",
     "output_type": "stream",
     "text": [
      "[2.33290630e-02 2.31655441e-02 1.28117436e-02 1.24107076e-02\n",
      " 4.80448101e-03 4.39513511e-03 2.29615434e-03 2.18739174e-03\n",
      " 1.43843101e-03 1.28924479e-03 1.20253125e-03 1.03312528e-03\n",
      " 6.38324634e-04 4.43883017e-04 2.79473366e-04 1.96445374e-04\n",
      " 1.62806082e-04 1.10098661e-04 5.82713152e-05 4.20231623e-05\n",
      " 4.14404717e-05 3.99686914e-05 2.33503697e-05 2.09841588e-05\n",
      " 1.83711168e-05 1.70765846e-05 9.18274527e-06 7.98968109e-06\n",
      " 5.96327473e-06 5.23521226e-06 2.09427712e-06 2.06584034e-06\n",
      " 1.50365468e-06 1.13782229e-06 5.88735102e-07 5.32174165e-07\n",
      " 3.05105620e-07 1.84109808e-07 1.68481969e-07 1.68221455e-07\n",
      " 1.56540581e-07 9.48657701e-08 9.08442392e-08 6.48138821e-08\n",
      " 4.41585094e-08 3.30686858e-08 3.24505859e-08 3.12680696e-08\n",
      " 2.74215604e-08 1.40905549e-08 9.37607300e-09 8.69972382e-09\n",
      " 7.38250055e-09 3.20457761e-09 2.21783072e-09 1.77129621e-09\n",
      " 1.30143245e-09 1.28834477e-09 1.26452111e-09 6.21791995e-10\n",
      " 2.80572833e-10 2.47261228e-10 1.66997283e-10 1.39573236e-10]\n",
      "[2.33290630e-02 2.31655441e-02 1.28117436e-02 1.24107076e-02\n",
      " 4.80448101e-03 4.39513511e-03 2.29615434e-03 2.18739174e-03\n",
      " 1.43843101e-03 1.28924479e-03 1.20253125e-03 1.03312528e-03\n",
      " 6.38324634e-04 4.43883017e-04 2.79473366e-04 1.96445374e-04\n",
      " 1.62806082e-04 1.10098661e-04 5.82713152e-05 4.20231623e-05\n",
      " 4.14404717e-05 3.99686914e-05 2.33503697e-05 2.09841588e-05\n",
      " 1.83711168e-05 1.70765846e-05 9.18274527e-06 7.98968109e-06\n",
      " 5.96327473e-06 5.23521226e-06 2.09427712e-06 2.06584034e-06\n",
      " 1.50365468e-06 1.13782229e-06 5.88735102e-07 5.32174165e-07\n",
      " 3.05105620e-07 1.84109808e-07 1.68481969e-07 1.68221455e-07\n",
      " 1.56540581e-07 9.48657701e-08 9.08442392e-08 6.48138821e-08\n",
      " 4.41585094e-08 3.30686858e-08 3.24505859e-08 3.12680696e-08\n",
      " 2.74215604e-08 1.40905549e-08 9.37607300e-09 8.69972382e-09\n",
      " 7.38250055e-09 3.20457761e-09 2.21783072e-09 1.77129621e-09\n",
      " 1.30143245e-09 1.28834477e-09 1.26452111e-09 6.21791995e-10\n",
      " 2.80572833e-10 2.47261228e-10 1.66997283e-10 1.39573236e-10]\n"
     ]
    }
   ],
   "source": [
    "# setup filter (basically compute prior additive noise covariance)\n",
    "# approx 1% process error, lengthscales approx 2 cylinder diams\n",
    "rho = 5e-2\n",
    "ell = 2.\n",
    "k = 64\n",
    "stat_params = dict(rho_u=rho, rho_v=rho, rho_h=0.,\n",
    "                   ell_u=ell, ell_v=ell, ell_h=0.5,\n",
    "                   k_init_u=k, k_init_v=k, k_init_h=1, k=2*k,\n",
    "                   sigma_y=sigma_y, H=H)\n",
    "swe.setup_filter(stat_params)\n",
    "\n",
    "# as on the same fcn space\n",
    "assert_allclose(swe.Ku_vals, swe.Kv_vals)"
   ]
  },
  {
   "cell_type": "code",
   "execution_count": 6,
   "id": "7214c170-9f37-49f1-9943-681deaed641d",
   "metadata": {},
   "outputs": [
    {
     "data": {
      "image/png": "[encoded data removed]",
      "text/plain": [
       "<Figure size 432x288 with 1 Axes>"
      ]
     },
     "metadata": {
      "needs_background": "light"
     },
     "output_type": "display_data"
    }
   ],
   "source": [
    "plt.semilogy(swe.Ku_vals, \"o-\", label=\"$u$\")\n",
    "plt.semilogy(swe.Kv_vals, \"o-\", label=\"$v$\")\n",
    "plt.legend()\n",
    "plt.show()"
   ]
  },
  {
   "cell_type": "code",
   "execution_count": null,
   "id": "7edab422-66d3-4ef9-a97f-9547c933510b",
   "metadata": {
    "tags": []
   },
   "outputs": [
    {
     "name": "stderr",
     "output_type": "stream",
     "text": [
      "  0%|                                                                                                                   | 0/480 [00:00<?, ?it/s]"
     ]
    },
    {
     "name": "stdout",
     "output_type": "stream",
     "text": [
      "Prop. variance kept in the reduction: 1.000000\n"
     ]
    },
    {
     "name": "stderr",
     "output_type": "stream",
     "text": [
      "  0%|▏                                                                                                        | 1/480 [00:19<2:34:24, 19.34s/it]"
     ]
    },
    {
     "name": "stdout",
     "output_type": "stream",
     "text": [
      "0.019527337682997487\n",
      "Prop. variance kept in the reduction: 0.999990\n"
     ]
    },
    {
     "name": "stderr",
     "output_type": "stream",
     "text": [
      "  0%|▍                                                                                                        | 2/480 [00:36<2:25:24, 18.25s/it]"
     ]
    },
    {
     "name": "stdout",
     "output_type": "stream",
     "text": [
      "Prop. variance kept in the reduction: 0.999896\n"
     ]
    },
    {
     "name": "stderr",
     "output_type": "stream",
     "text": [
      "  1%|▋                                                                                                        | 3/480 [00:54<2:24:14, 18.14s/it]"
     ]
    },
    {
     "name": "stdout",
     "output_type": "stream",
     "text": [
      "0.02119634472714331\n",
      "Prop. variance kept in the reduction: 0.999825\n"
     ]
    },
    {
     "name": "stderr",
     "output_type": "stream",
     "text": [
      "  1%|▉                                                                                                        | 4/480 [01:12<2:21:56, 17.89s/it]"
     ]
    },
    {
     "name": "stdout",
     "output_type": "stream",
     "text": [
      "Prop. variance kept in the reduction: 0.999798\n"
     ]
    },
    {
     "name": "stderr",
     "output_type": "stream",
     "text": [
      "  1%|█                                                                                                        | 5/480 [01:30<2:21:57, 17.93s/it]"
     ]
    },
    {
     "name": "stdout",
     "output_type": "stream",
     "text": [
      "0.02043088949166251\n",
      "Prop. variance kept in the reduction: 0.999782\n"
     ]
    },
    {
     "name": "stderr",
     "output_type": "stream",
     "text": [
      "  1%|█▎                                                                                                       | 6/480 [01:47<2:20:20, 17.77s/it]"
     ]
    },
    {
     "name": "stdout",
     "output_type": "stream",
     "text": [
      "Prop. variance kept in the reduction: 0.999770\n"
     ]
    },
    {
     "name": "stderr",
     "output_type": "stream",
     "text": [
      "  1%|█▌                                                                                                       | 7/480 [02:05<2:20:33, 17.83s/it]"
     ]
    },
    {
     "name": "stdout",
     "output_type": "stream",
     "text": [
      "0.019244121732792226\n",
      "Prop. variance kept in the reduction: 0.999753\n"
     ]
    },
    {
     "name": "stderr",
     "output_type": "stream",
     "text": [
      "  2%|█▊                                                                                                       | 8/480 [02:23<2:19:16, 17.71s/it]"
     ]
    },
    {
     "name": "stdout",
     "output_type": "stream",
     "text": [
      "Prop. variance kept in the reduction: 0.999726\n"
     ]
    },
    {
     "name": "stderr",
     "output_type": "stream",
     "text": [
      "  2%|█▉                                                                                                       | 9/480 [02:41<2:19:46, 17.81s/it]"
     ]
    },
    {
     "name": "stdout",
     "output_type": "stream",
     "text": [
      "0.01941426841953882\n",
      "Prop. variance kept in the reduction: 0.999700\n"
     ]
    },
    {
     "name": "stderr",
     "output_type": "stream",
     "text": [
      "  2%|██▏                                                                                                     | 10/480 [02:59<2:19:34, 17.82s/it]"
     ]
    },
    {
     "name": "stdout",
     "output_type": "stream",
     "text": [
      "Prop. variance kept in the reduction: 0.999670\n"
     ]
    },
    {
     "name": "stderr",
     "output_type": "stream",
     "text": [
      "  2%|██▍                                                                                                     | 11/480 [03:17<2:19:39, 17.87s/it]"
     ]
    },
    {
     "name": "stdout",
     "output_type": "stream",
     "text": [
      "0.01988184229441972\n",
      "Prop. variance kept in the reduction: 0.999641\n"
     ]
    },
    {
     "name": "stderr",
     "output_type": "stream",
     "text": [
      "  2%|██▌                                                                                                     | 12/480 [03:34<2:18:26, 17.75s/it]"
     ]
    },
    {
     "name": "stdout",
     "output_type": "stream",
     "text": [
      "Prop. variance kept in the reduction: 0.999608\n"
     ]
    },
    {
     "name": "stderr",
     "output_type": "stream",
     "text": [
      "  3%|██▊                                                                                                     | 13/480 [03:52<2:18:41, 17.82s/it]"
     ]
    },
    {
     "name": "stdout",
     "output_type": "stream",
     "text": [
      "0.019742670894403392\n",
      "Prop. variance kept in the reduction: 0.999576\n"
     ]
    },
    {
     "name": "stderr",
     "output_type": "stream",
     "text": [
      "  3%|███                                                                                                     | 14/480 [04:09<2:17:34, 17.71s/it]"
     ]
    },
    {
     "name": "stdout",
     "output_type": "stream",
     "text": [
      "Prop. variance kept in the reduction: 0.999549\n"
     ]
    },
    {
     "name": "stderr",
     "output_type": "stream",
     "text": [
      "  3%|███▎                                                                                                    | 15/480 [04:27<2:17:54, 17.80s/it]"
     ]
    },
    {
     "name": "stdout",
     "output_type": "stream",
     "text": [
      "0.02001698610919726\n",
      "Prop. variance kept in the reduction: 0.999514\n"
     ]
    },
    {
     "name": "stderr",
     "output_type": "stream",
     "text": [
      "  3%|███▍                                                                                                    | 16/480 [04:45<2:16:51, 17.70s/it]"
     ]
    },
    {
     "name": "stdout",
     "output_type": "stream",
     "text": [
      "Prop. variance kept in the reduction: 0.999492\n"
     ]
    },
    {
     "name": "stderr",
     "output_type": "stream",
     "text": [
      "  4%|███▋                                                                                                    | 17/480 [05:03<2:17:15, 17.79s/it]"
     ]
    },
    {
     "name": "stdout",
     "output_type": "stream",
     "text": [
      "0.019953616788730127\n",
      "Prop. variance kept in the reduction: 0.999446\n"
     ]
    },
    {
     "name": "stderr",
     "output_type": "stream",
     "text": [
      "  4%|███▉                                                                                                    | 18/480 [05:20<2:16:13, 17.69s/it]"
     ]
    },
    {
     "name": "stdout",
     "output_type": "stream",
     "text": [
      "Prop. variance kept in the reduction: 0.999408\n"
     ]
    },
    {
     "name": "stderr",
     "output_type": "stream",
     "text": [
      "  4%|████                                                                                                    | 19/480 [05:38<2:16:40, 17.79s/it]"
     ]
    },
    {
     "name": "stdout",
     "output_type": "stream",
     "text": [
      "0.020615730668758343\n",
      "Prop. variance kept in the reduction: 0.999356\n"
     ]
    },
    {
     "name": "stderr",
     "output_type": "stream",
     "text": [
      "  4%|████▎                                                                                                   | 20/480 [05:56<2:15:44, 17.70s/it]"
     ]
    },
    {
     "name": "stdout",
     "output_type": "stream",
     "text": [
      "Prop. variance kept in the reduction: 0.999328\n"
     ]
    },
    {
     "name": "stderr",
     "output_type": "stream",
     "text": [
      "  4%|████▌                                                                                                   | 21/480 [06:14<2:16:03, 17.78s/it]"
     ]
    },
    {
     "name": "stdout",
     "output_type": "stream",
     "text": [
      "0.02005655625687951\n",
      "Prop. variance kept in the reduction: 0.999273\n"
     ]
    },
    {
     "name": "stderr",
     "output_type": "stream",
     "text": [
      "  5%|████▊                                                                                                   | 22/480 [06:31<2:15:03, 17.69s/it]"
     ]
    },
    {
     "name": "stdout",
     "output_type": "stream",
     "text": [
      "Prop. variance kept in the reduction: 0.999230\n"
     ]
    },
    {
     "name": "stderr",
     "output_type": "stream",
     "text": [
      "  5%|████▉                                                                                                   | 23/480 [06:49<2:15:29, 17.79s/it]"
     ]
    },
    {
     "name": "stdout",
     "output_type": "stream",
     "text": [
      "0.0196334756057866\n",
      "Prop. variance kept in the reduction: 0.999171\n"
     ]
    },
    {
     "name": "stderr",
     "output_type": "stream",
     "text": [
      "  5%|█████▏                                                                                                  | 24/480 [07:07<2:14:25, 17.69s/it]"
     ]
    },
    {
     "name": "stdout",
     "output_type": "stream",
     "text": [
      "Prop. variance kept in the reduction: 0.999119\n"
     ]
    },
    {
     "name": "stderr",
     "output_type": "stream",
     "text": [
      "  5%|█████▍                                                                                                  | 25/480 [07:25<2:14:45, 17.77s/it]"
     ]
    },
    {
     "name": "stdout",
     "output_type": "stream",
     "text": [
      "0.021539324257258637\n",
      "Prop. variance kept in the reduction: 0.999036\n"
     ]
    },
    {
     "name": "stderr",
     "output_type": "stream",
     "text": [
      "  5%|█████▋                                                                                                  | 26/480 [07:42<2:13:43, 17.67s/it]"
     ]
    },
    {
     "name": "stdout",
     "output_type": "stream",
     "text": [
      "Prop. variance kept in the reduction: 0.999004\n"
     ]
    },
    {
     "name": "stderr",
     "output_type": "stream",
     "text": [
      "  6%|█████▊                                                                                                  | 27/480 [08:00<2:14:00, 17.75s/it]"
     ]
    },
    {
     "name": "stdout",
     "output_type": "stream",
     "text": [
      "0.020519422443411928\n",
      "Prop. variance kept in the reduction: 0.998958\n"
     ]
    },
    {
     "name": "stderr",
     "output_type": "stream",
     "text": [
      "  6%|██████                                                                                                  | 28/480 [08:18<2:13:02, 17.66s/it]"
     ]
    },
    {
     "name": "stdout",
     "output_type": "stream",
     "text": [
      "Prop. variance kept in the reduction: 0.998926\n"
     ]
    },
    {
     "name": "stderr",
     "output_type": "stream",
     "text": [
      "  6%|██████▎                                                                                                 | 29/480 [08:36<2:13:27, 17.76s/it]"
     ]
    },
    {
     "name": "stdout",
     "output_type": "stream",
     "text": [
      "0.019074464950798477\n",
      "Prop. variance kept in the reduction: 0.998868\n"
     ]
    },
    {
     "name": "stderr",
     "output_type": "stream",
     "text": [
      "  6%|██████▌                                                                                                 | 30/480 [08:53<2:12:37, 17.68s/it]"
     ]
    },
    {
     "name": "stdout",
     "output_type": "stream",
     "text": [
      "Prop. variance kept in the reduction: 0.998825\n"
     ]
    },
    {
     "name": "stderr",
     "output_type": "stream",
     "text": [
      "  6%|██████▋                                                                                                 | 31/480 [09:11<2:12:50, 17.75s/it]"
     ]
    },
    {
     "name": "stdout",
     "output_type": "stream",
     "text": [
      "0.020611246839001146\n",
      "Prop. variance kept in the reduction: 0.998755\n"
     ]
    },
    {
     "name": "stderr",
     "output_type": "stream",
     "text": [
      "  7%|██████▉                                                                                                 | 32/480 [09:29<2:12:00, 17.68s/it]"
     ]
    },
    {
     "name": "stdout",
     "output_type": "stream",
     "text": [
      "Prop. variance kept in the reduction: 0.998707\n"
     ]
    },
    {
     "name": "stderr",
     "output_type": "stream",
     "text": [
      "  7%|███████▏                                                                                                | 33/480 [09:47<2:12:24, 17.77s/it]"
     ]
    },
    {
     "name": "stdout",
     "output_type": "stream",
     "text": [
      "0.019163395604203177\n",
      "Prop. variance kept in the reduction: 0.998634\n"
     ]
    },
    {
     "name": "stderr",
     "output_type": "stream",
     "text": [
      "  7%|███████▎                                                                                                | 34/480 [10:04<2:11:26, 17.68s/it]"
     ]
    },
    {
     "name": "stdout",
     "output_type": "stream",
     "text": [
      "Prop. variance kept in the reduction: 0.998574\n"
     ]
    },
    {
     "name": "stderr",
     "output_type": "stream",
     "text": [
      "  7%|███████▌                                                                                                | 35/480 [10:22<2:11:58, 17.79s/it]"
     ]
    },
    {
     "name": "stdout",
     "output_type": "stream",
     "text": [
      "0.018743430426519665\n",
      "Prop. variance kept in the reduction: 0.998567\n"
     ]
    },
    {
     "name": "stderr",
     "output_type": "stream",
     "text": [
      "  8%|███████▊                                                                                                | 36/480 [10:40<2:11:07, 17.72s/it]"
     ]
    },
    {
     "name": "stdout",
     "output_type": "stream",
     "text": [
      "Prop. variance kept in the reduction: 0.998478\n"
     ]
    },
    {
     "name": "stderr",
     "output_type": "stream",
     "text": [
      "  8%|████████                                                                                                | 37/480 [10:58<2:11:24, 17.80s/it]"
     ]
    },
    {
     "name": "stdout",
     "output_type": "stream",
     "text": [
      "0.020050482237278826\n",
      "Prop. variance kept in the reduction: 0.998437\n"
     ]
    },
    {
     "name": "stderr",
     "output_type": "stream",
     "text": [
      "  8%|████████▏                                                                                               | 38/480 [11:15<2:10:24, 17.70s/it]"
     ]
    },
    {
     "name": "stdout",
     "output_type": "stream",
     "text": [
      "Prop. variance kept in the reduction: 0.998406\n"
     ]
    },
    {
     "name": "stderr",
     "output_type": "stream",
     "text": [
      "  8%|████████▍                                                                                               | 39/480 [11:33<2:10:52, 17.81s/it]"
     ]
    },
    {
     "name": "stdout",
     "output_type": "stream",
     "text": [
      "0.01965992722000086\n",
      "Prop. variance kept in the reduction: 0.998340\n"
     ]
    },
    {
     "name": "stderr",
     "output_type": "stream",
     "text": [
      "  8%|████████▋                                                                                               | 40/480 [11:51<2:09:55, 17.72s/it]"
     ]
    },
    {
     "name": "stdout",
     "output_type": "stream",
     "text": [
      "Prop. variance kept in the reduction: 0.998299\n"
     ]
    },
    {
     "name": "stderr",
     "output_type": "stream",
     "text": [
      "  9%|████████▉                                                                                               | 41/480 [12:09<2:10:21, 17.82s/it]"
     ]
    },
    {
     "name": "stdout",
     "output_type": "stream",
     "text": [
      "0.02024701389032086\n",
      "Prop. variance kept in the reduction: 0.998194\n"
     ]
    },
    {
     "name": "stderr",
     "output_type": "stream",
     "text": [
      "  9%|█████████                                                                                               | 42/480 [12:26<2:09:25, 17.73s/it]"
     ]
    },
    {
     "name": "stdout",
     "output_type": "stream",
     "text": [
      "Prop. variance kept in the reduction: 0.998182\n"
     ]
    },
    {
     "name": "stderr",
     "output_type": "stream",
     "text": [
      "  9%|█████████▎                                                                                              | 43/480 [12:44<2:09:50, 17.83s/it]"
     ]
    },
    {
     "name": "stdout",
     "output_type": "stream",
     "text": [
      "0.020509520046716873\n",
      "Prop. variance kept in the reduction: 0.998145\n"
     ]
    },
    {
     "name": "stderr",
     "output_type": "stream",
     "text": [
      "  9%|█████████▌                                                                                              | 44/480 [13:02<2:08:52, 17.73s/it]"
     ]
    },
    {
     "name": "stdout",
     "output_type": "stream",
     "text": [
      "Prop. variance kept in the reduction: 0.998124\n"
     ]
    },
    {
     "name": "stderr",
     "output_type": "stream",
     "text": [
      "  9%|█████████▊                                                                                              | 45/480 [13:20<2:09:14, 17.83s/it]"
     ]
    },
    {
     "name": "stdout",
     "output_type": "stream",
     "text": [
      "0.0192427826397412\n",
      "Prop. variance kept in the reduction: 0.998173\n"
     ]
    },
    {
     "name": "stderr",
     "output_type": "stream",
     "text": [
      " 10%|█████████▉                                                                                              | 46/480 [13:37<2:08:16, 17.73s/it]"
     ]
    },
    {
     "name": "stdout",
     "output_type": "stream",
     "text": [
      "Prop. variance kept in the reduction: 0.998145\n"
     ]
    },
    {
     "name": "stderr",
     "output_type": "stream",
     "text": [
      " 10%|██████████▏                                                                                             | 47/480 [13:55<2:08:39, 17.83s/it]"
     ]
    },
    {
     "name": "stdout",
     "output_type": "stream",
     "text": [
      "0.020924557177980526\n",
      "Prop. variance kept in the reduction: 0.998102\n"
     ]
    },
    {
     "name": "stderr",
     "output_type": "stream",
     "text": [
      " 10%|██████████▍                                                                                             | 48/480 [14:13<2:07:44, 17.74s/it]"
     ]
    },
    {
     "name": "stdout",
     "output_type": "stream",
     "text": [
      "Prop. variance kept in the reduction: 0.998073\n"
     ]
    },
    {
     "name": "stderr",
     "output_type": "stream",
     "text": [
      " 10%|██████████▌                                                                                             | 49/480 [14:31<2:08:07, 17.84s/it]"
     ]
    },
    {
     "name": "stdout",
     "output_type": "stream",
     "text": [
      "0.019047317218355432\n",
      "Prop. variance kept in the reduction: 0.998024\n"
     ]
    },
    {
     "name": "stderr",
     "output_type": "stream",
     "text": [
      " 10%|██████████▊                                                                                             | 50/480 [14:48<2:07:09, 17.74s/it]"
     ]
    },
    {
     "name": "stdout",
     "output_type": "stream",
     "text": [
      "Prop. variance kept in the reduction: 0.998053\n"
     ]
    },
    {
     "name": "stderr",
     "output_type": "stream",
     "text": [
      " 11%|███████████                                                                                             | 51/480 [15:07<2:07:31, 17.84s/it]"
     ]
    },
    {
     "name": "stdout",
     "output_type": "stream",
     "text": [
      "0.020209637674614946\n",
      "Prop. variance kept in the reduction: 0.998014\n"
     ]
    },
    {
     "name": "stderr",
     "output_type": "stream",
     "text": [
      " 11%|███████████▎                                                                                            | 52/480 [15:24<2:06:34, 17.74s/it]"
     ]
    },
    {
     "name": "stdout",
     "output_type": "stream",
     "text": [
      "Prop. variance kept in the reduction: 0.998053\n"
     ]
    },
    {
     "name": "stderr",
     "output_type": "stream",
     "text": [
      " 11%|███████████▍                                                                                            | 53/480 [15:42<2:06:55, 17.83s/it]"
     ]
    },
    {
     "name": "stdout",
     "output_type": "stream",
     "text": [
      "0.020239102799282416\n",
      "Prop. variance kept in the reduction: 0.998023\n"
     ]
    },
    {
     "name": "stderr",
     "output_type": "stream",
     "text": [
      " 11%|███████████▋                                                                                            | 54/480 [16:00<2:05:58, 17.74s/it]"
     ]
    },
    {
     "name": "stdout",
     "output_type": "stream",
     "text": [
      "Prop. variance kept in the reduction: 0.998061\n"
     ]
    },
    {
     "name": "stderr",
     "output_type": "stream",
     "text": [
      " 11%|███████████▉                                                                                            | 55/480 [16:18<2:06:21, 17.84s/it]"
     ]
    },
    {
     "name": "stdout",
     "output_type": "stream",
     "text": [
      "0.020470782533720505\n",
      "Prop. variance kept in the reduction: 0.997994\n"
     ]
    },
    {
     "name": "stderr",
     "output_type": "stream",
     "text": [
      " 12%|████████████▏                                                                                           | 56/480 [16:35<2:05:23, 17.74s/it]"
     ]
    },
    {
     "name": "stdout",
     "output_type": "stream",
     "text": [
      "Prop. variance kept in the reduction: 0.998021\n"
     ]
    },
    {
     "name": "stderr",
     "output_type": "stream",
     "text": [
      " 12%|████████████▎                                                                                           | 57/480 [16:53<2:05:45, 17.84s/it]"
     ]
    },
    {
     "name": "stdout",
     "output_type": "stream",
     "text": [
      "0.01962466505336334\n",
      "Prop. variance kept in the reduction: 0.997954\n"
     ]
    },
    {
     "name": "stderr",
     "output_type": "stream",
     "text": [
      " 12%|████████████▌                                                                                           | 58/480 [17:11<2:04:47, 17.74s/it]"
     ]
    },
    {
     "name": "stdout",
     "output_type": "stream",
     "text": [
      "Prop. variance kept in the reduction: 0.997992\n"
     ]
    },
    {
     "name": "stderr",
     "output_type": "stream",
     "text": [
      " 12%|████████████▊                                                                                           | 59/480 [17:29<2:05:13, 17.85s/it]"
     ]
    },
    {
     "name": "stdout",
     "output_type": "stream",
     "text": [
      "0.019526989299479183\n",
      "Prop. variance kept in the reduction: 0.997952\n"
     ]
    },
    {
     "name": "stderr",
     "output_type": "stream",
     "text": [
      " 12%|█████████████                                                                                           | 60/480 [17:46<2:04:21, 17.77s/it]"
     ]
    },
    {
     "name": "stdout",
     "output_type": "stream",
     "text": [
      "Prop. variance kept in the reduction: 0.997992\n"
     ]
    },
    {
     "name": "stderr",
     "output_type": "stream",
     "text": [
      " 13%|█████████████▏                                                                                          | 61/480 [18:05<2:04:39, 17.85s/it]"
     ]
    },
    {
     "name": "stdout",
     "output_type": "stream",
     "text": [
      "0.01932981456738531\n",
      "Prop. variance kept in the reduction: 0.997971\n"
     ]
    },
    {
     "name": "stderr",
     "output_type": "stream",
     "text": [
      " 13%|█████████████▍                                                                                          | 62/480 [18:22<2:03:43, 17.76s/it]"
     ]
    },
    {
     "name": "stdout",
     "output_type": "stream",
     "text": [
      "Prop. variance kept in the reduction: 0.998001\n"
     ]
    },
    {
     "name": "stderr",
     "output_type": "stream",
     "text": [
      " 13%|█████████████▋                                                                                          | 63/480 [18:40<2:04:02, 17.85s/it]"
     ]
    },
    {
     "name": "stdout",
     "output_type": "stream",
     "text": [
      "0.019753035226862375\n",
      "Prop. variance kept in the reduction: 0.997969\n"
     ]
    },
    {
     "name": "stderr",
     "output_type": "stream",
     "text": [
      " 13%|█████████████▊                                                                                          | 64/480 [18:58<2:03:03, 17.75s/it]"
     ]
    },
    {
     "name": "stdout",
     "output_type": "stream",
     "text": [
      "Prop. variance kept in the reduction: 0.997999\n"
     ]
    },
    {
     "name": "stderr",
     "output_type": "stream",
     "text": [
      " 14%|██████████████                                                                                          | 65/480 [19:16<2:03:23, 17.84s/it]"
     ]
    },
    {
     "name": "stdout",
     "output_type": "stream",
     "text": [
      "0.02025046071561518\n",
      "Prop. variance kept in the reduction: 0.997966\n"
     ]
    },
    {
     "name": "stderr",
     "output_type": "stream",
     "text": [
      " 14%|██████████████▎                                                                                         | 66/480 [19:33<2:02:27, 17.75s/it]"
     ]
    },
    {
     "name": "stdout",
     "output_type": "stream",
     "text": [
      "Prop. variance kept in the reduction: 0.998002\n"
     ]
    },
    {
     "name": "stderr",
     "output_type": "stream",
     "text": [
      " 14%|██████████████▌                                                                                         | 67/480 [19:51<2:02:47, 17.84s/it]"
     ]
    },
    {
     "name": "stdout",
     "output_type": "stream",
     "text": [
      "0.018569514759124422\n",
      "Prop. variance kept in the reduction: 0.997961\n"
     ]
    },
    {
     "name": "stderr",
     "output_type": "stream",
     "text": [
      " 14%|██████████████▋                                                                                         | 68/480 [20:09<2:01:51, 17.75s/it]"
     ]
    },
    {
     "name": "stdout",
     "output_type": "stream",
     "text": [
      "Prop. variance kept in the reduction: 0.998034\n"
     ]
    },
    {
     "name": "stderr",
     "output_type": "stream",
     "text": [
      " 14%|██████████████▉                                                                                         | 69/480 [20:27<2:02:11, 17.84s/it]"
     ]
    },
    {
     "name": "stdout",
     "output_type": "stream",
     "text": [
      "0.020627399814876293\n",
      "Prop. variance kept in the reduction: 0.998008\n"
     ]
    },
    {
     "name": "stderr",
     "output_type": "stream",
     "text": [
      " 15%|███████████████▏                                                                                        | 70/480 [20:44<2:01:14, 17.74s/it]"
     ]
    },
    {
     "name": "stdout",
     "output_type": "stream",
     "text": [
      "Prop. variance kept in the reduction: 0.998063\n"
     ]
    },
    {
     "name": "stderr",
     "output_type": "stream",
     "text": [
      " 15%|███████████████▍                                                                                        | 71/480 [21:02<2:01:34, 17.83s/it]"
     ]
    },
    {
     "name": "stdout",
     "output_type": "stream",
     "text": [
      "0.019097444270148582\n",
      "Prop. variance kept in the reduction: 0.998033\n"
     ]
    },
    {
     "name": "stderr",
     "output_type": "stream",
     "text": [
      " 15%|███████████████▌                                                                                        | 72/480 [21:20<2:00:39, 17.74s/it]"
     ]
    },
    {
     "name": "stdout",
     "output_type": "stream",
     "text": [
      "Prop. variance kept in the reduction: 0.998058\n"
     ]
    },
    {
     "name": "stderr",
     "output_type": "stream",
     "text": [
      " 15%|███████████████▊                                                                                        | 73/480 [21:38<2:00:58, 17.83s/it]"
     ]
    },
    {
     "name": "stdout",
     "output_type": "stream",
     "text": [
      "0.01972602006908758\n",
      "Prop. variance kept in the reduction: 0.998050\n"
     ]
    },
    {
     "name": "stderr",
     "output_type": "stream",
     "text": [
      " 15%|████████████████                                                                                        | 74/480 [21:56<2:00:09, 17.76s/it]"
     ]
    },
    {
     "name": "stdout",
     "output_type": "stream",
     "text": [
      "Prop. variance kept in the reduction: 0.998075\n"
     ]
    },
    {
     "name": "stderr",
     "output_type": "stream",
     "text": [
      " 16%|████████████████▎                                                                                       | 75/480 [22:14<2:00:27, 17.85s/it]"
     ]
    },
    {
     "name": "stdout",
     "output_type": "stream",
     "text": [
      "0.0206926694959139\n",
      "Prop. variance kept in the reduction: 0.998072\n"
     ]
    },
    {
     "name": "stderr",
     "output_type": "stream",
     "text": [
      " 16%|████████████████▍                                                                                       | 76/480 [22:31<1:59:31, 17.75s/it]"
     ]
    },
    {
     "name": "stdout",
     "output_type": "stream",
     "text": [
      "Prop. variance kept in the reduction: 0.998109\n"
     ]
    },
    {
     "name": "stderr",
     "output_type": "stream",
     "text": [
      " 16%|████████████████▋                                                                                       | 77/480 [22:49<1:59:50, 17.84s/it]"
     ]
    },
    {
     "name": "stdout",
     "output_type": "stream",
     "text": [
      "0.0197666786127139\n",
      "Prop. variance kept in the reduction: 0.998096\n"
     ]
    },
    {
     "name": "stderr",
     "output_type": "stream",
     "text": [
      " 16%|████████████████▉                                                                                       | 78/480 [23:07<1:58:55, 17.75s/it]"
     ]
    },
    {
     "name": "stdout",
     "output_type": "stream",
     "text": [
      "Prop. variance kept in the reduction: 0.998136\n"
     ]
    },
    {
     "name": "stderr",
     "output_type": "stream",
     "text": [
      " 16%|█████████████████                                                                                       | 79/480 [23:25<1:59:13, 17.84s/it]"
     ]
    },
    {
     "name": "stdout",
     "output_type": "stream",
     "text": [
      "0.020701217672701697\n",
      "Prop. variance kept in the reduction: 0.998131\n"
     ]
    },
    {
     "name": "stderr",
     "output_type": "stream",
     "text": [
      " 17%|█████████████████▎                                                                                      | 80/480 [23:42<1:58:15, 17.74s/it]"
     ]
    },
    {
     "name": "stdout",
     "output_type": "stream",
     "text": [
      "Prop. variance kept in the reduction: 0.998165\n"
     ]
    },
    {
     "name": "stderr",
     "output_type": "stream",
     "text": [
      " 17%|█████████████████▌                                                                                      | 81/480 [24:00<1:58:37, 17.84s/it]"
     ]
    },
    {
     "name": "stdout",
     "output_type": "stream",
     "text": [
      "0.019441969277633725\n",
      "Prop. variance kept in the reduction: 0.998164\n"
     ]
    },
    {
     "name": "stderr",
     "output_type": "stream",
     "text": [
      " 17%|█████████████████▊                                                                                      | 82/480 [24:18<1:57:41, 17.74s/it]"
     ]
    },
    {
     "name": "stdout",
     "output_type": "stream",
     "text": [
      "Prop. variance kept in the reduction: 0.998196\n"
     ]
    },
    {
     "name": "stderr",
     "output_type": "stream",
     "text": [
      " 17%|█████████████████▉                                                                                      | 83/480 [24:36<1:58:00, 17.83s/it]"
     ]
    },
    {
     "name": "stdout",
     "output_type": "stream",
     "text": [
      "0.0197553345497117\n",
      "Prop. variance kept in the reduction: 0.998202\n"
     ]
    },
    {
     "name": "stderr",
     "output_type": "stream",
     "text": [
      " 18%|██████████████████▏                                                                                     | 84/480 [24:53<1:57:06, 17.74s/it]"
     ]
    },
    {
     "name": "stdout",
     "output_type": "stream",
     "text": [
      "Prop. variance kept in the reduction: 0.998222\n"
     ]
    },
    {
     "name": "stderr",
     "output_type": "stream",
     "text": [
      " 18%|██████████████████▍                                                                                     | 85/480 [25:12<1:57:28, 17.85s/it]"
     ]
    },
    {
     "name": "stdout",
     "output_type": "stream",
     "text": [
      "0.020751596100584784\n",
      "Prop. variance kept in the reduction: 0.998226\n"
     ]
    },
    {
     "name": "stderr",
     "output_type": "stream",
     "text": [
      " 18%|██████████████████▋                                                                                     | 86/480 [25:29<1:56:33, 17.75s/it]"
     ]
    },
    {
     "name": "stdout",
     "output_type": "stream",
     "text": [
      "Prop. variance kept in the reduction: 0.998261\n"
     ]
    },
    {
     "name": "stderr",
     "output_type": "stream",
     "text": [
      " 18%|██████████████████▊                                                                                     | 87/480 [25:47<1:56:51, 17.84s/it]"
     ]
    },
    {
     "name": "stdout",
     "output_type": "stream",
     "text": [
      "0.021245138628781902\n",
      "Prop. variance kept in the reduction: 0.998259\n"
     ]
    },
    {
     "name": "stderr",
     "output_type": "stream",
     "text": [
      " 18%|███████████████████                                                                                     | 88/480 [26:05<1:55:56, 17.75s/it]"
     ]
    },
    {
     "name": "stdout",
     "output_type": "stream",
     "text": [
      "Prop. variance kept in the reduction: 0.998303\n"
     ]
    },
    {
     "name": "stderr",
     "output_type": "stream",
     "text": [
      " 19%|███████████████████▎                                                                                    | 89/480 [26:23<1:56:14, 17.84s/it]"
     ]
    },
    {
     "name": "stdout",
     "output_type": "stream",
     "text": [
      "0.019442981358382835\n",
      "Prop. variance kept in the reduction: 0.998306\n"
     ]
    },
    {
     "name": "stderr",
     "output_type": "stream",
     "text": [
      " 19%|███████████████████▌                                                                                    | 90/480 [26:40<1:55:21, 17.75s/it]"
     ]
    },
    {
     "name": "stdout",
     "output_type": "stream",
     "text": [
      "Prop. variance kept in the reduction: 0.998353\n"
     ]
    },
    {
     "name": "stderr",
     "output_type": "stream",
     "text": [
      " 19%|███████████████████▋                                                                                    | 91/480 [26:58<1:55:36, 17.83s/it]"
     ]
    },
    {
     "name": "stdout",
     "output_type": "stream",
     "text": [
      "0.019227860980567904\n",
      "Prop. variance kept in the reduction: 0.998358\n"
     ]
    },
    {
     "name": "stderr",
     "output_type": "stream",
     "text": [
      " 19%|███████████████████▉                                                                                    | 92/480 [27:16<1:54:40, 17.73s/it]"
     ]
    },
    {
     "name": "stdout",
     "output_type": "stream",
     "text": [
      "Prop. variance kept in the reduction: 0.998394\n"
     ]
    },
    {
     "name": "stderr",
     "output_type": "stream",
     "text": [
      " 19%|████████████████████▏                                                                                   | 93/480 [27:34<1:54:59, 17.83s/it]"
     ]
    },
    {
     "name": "stdout",
     "output_type": "stream",
     "text": [
      "0.019687433221753536\n",
      "Prop. variance kept in the reduction: 0.998420\n"
     ]
    },
    {
     "name": "stderr",
     "output_type": "stream",
     "text": [
      " 20%|████████████████████▎                                                                                   | 94/480 [27:51<1:54:04, 17.73s/it]"
     ]
    },
    {
     "name": "stdout",
     "output_type": "stream",
     "text": [
      "Prop. variance kept in the reduction: 0.998444\n"
     ]
    },
    {
     "name": "stderr",
     "output_type": "stream",
     "text": [
      " 20%|████████████████████▌                                                                                   | 95/480 [28:09<1:54:22, 17.82s/it]"
     ]
    },
    {
     "name": "stdout",
     "output_type": "stream",
     "text": [
      "0.019666739431380576\n",
      "Prop. variance kept in the reduction: 0.998472\n"
     ]
    },
    {
     "name": "stderr",
     "output_type": "stream",
     "text": [
      " 20%|████████████████████▊                                                                                   | 96/480 [28:27<1:53:28, 17.73s/it]"
     ]
    },
    {
     "name": "stdout",
     "output_type": "stream",
     "text": [
      "Prop. variance kept in the reduction: 0.998503\n"
     ]
    },
    {
     "name": "stderr",
     "output_type": "stream",
     "text": [
      " 20%|█████████████████████                                                                                   | 97/480 [28:45<1:53:45, 17.82s/it]"
     ]
    },
    {
     "name": "stdout",
     "output_type": "stream",
     "text": [
      "0.019738163420578297\n",
      "Prop. variance kept in the reduction: 0.998523\n"
     ]
    },
    {
     "name": "stderr",
     "output_type": "stream",
     "text": [
      " 20%|█████████████████████▏                                                                                  | 98/480 [29:02<1:52:52, 17.73s/it]"
     ]
    },
    {
     "name": "stdout",
     "output_type": "stream",
     "text": [
      "Prop. variance kept in the reduction: 0.998567\n"
     ]
    },
    {
     "name": "stderr",
     "output_type": "stream",
     "text": [
      " 21%|█████████████████████▍                                                                                  | 99/480 [29:20<1:53:09, 17.82s/it]"
     ]
    },
    {
     "name": "stdout",
     "output_type": "stream",
     "text": [
      "0.020595875659754473\n",
      "Prop. variance kept in the reduction: 0.998577\n"
     ]
    },
    {
     "name": "stderr",
     "output_type": "stream",
     "text": [
      " 21%|█████████████████████▍                                                                                 | 100/480 [29:38<1:52:15, 17.73s/it]"
     ]
    },
    {
     "name": "stdout",
     "output_type": "stream",
     "text": [
      "Prop. variance kept in the reduction: 0.998627\n"
     ]
    },
    {
     "name": "stderr",
     "output_type": "stream",
     "text": [
      " 21%|█████████████████████▋                                                                                 | 101/480 [29:56<1:52:31, 17.81s/it]"
     ]
    },
    {
     "name": "stdout",
     "output_type": "stream",
     "text": [
      "0.018898093781294128\n",
      "Prop. variance kept in the reduction: 0.998640\n"
     ]
    },
    {
     "name": "stderr",
     "output_type": "stream",
     "text": [
      " 21%|█████████████████████▉                                                                                 | 102/480 [30:14<1:51:38, 17.72s/it]"
     ]
    },
    {
     "name": "stdout",
     "output_type": "stream",
     "text": [
      "Prop. variance kept in the reduction: 0.998679\n"
     ]
    },
    {
     "name": "stderr",
     "output_type": "stream",
     "text": [
      " 21%|██████████████████████                                                                                 | 103/480 [30:32<1:51:52, 17.81s/it]"
     ]
    },
    {
     "name": "stdout",
     "output_type": "stream",
     "text": [
      "0.019399448150149667\n",
      "Prop. variance kept in the reduction: 0.998712\n"
     ]
    },
    {
     "name": "stderr",
     "output_type": "stream",
     "text": [
      " 22%|██████████████████████▎                                                                                | 104/480 [30:49<1:51:00, 17.71s/it]"
     ]
    },
    {
     "name": "stdout",
     "output_type": "stream",
     "text": [
      "Prop. variance kept in the reduction: 0.998739\n"
     ]
    },
    {
     "name": "stderr",
     "output_type": "stream",
     "text": [
      " 22%|██████████████████████▌                                                                                | 105/480 [31:07<1:51:42, 17.87s/it]"
     ]
    },
    {
     "name": "stdout",
     "output_type": "stream",
     "text": [
      "0.020274509485253223\n",
      "Prop. variance kept in the reduction: 0.998776\n"
     ]
    },
    {
     "name": "stderr",
     "output_type": "stream",
     "text": [
      " 22%|██████████████████████▋                                                                                | 106/480 [31:25<1:50:40, 17.76s/it]"
     ]
    },
    {
     "name": "stdout",
     "output_type": "stream",
     "text": [
      "Prop. variance kept in the reduction: 0.998807\n"
     ]
    },
    {
     "name": "stderr",
     "output_type": "stream",
     "text": [
      " 22%|██████████████████████▉                                                                                | 107/480 [31:43<1:50:52, 17.84s/it]"
     ]
    },
    {
     "name": "stdout",
     "output_type": "stream",
     "text": [
      "0.019238438354451416\n",
      "Prop. variance kept in the reduction: 0.998836\n"
     ]
    },
    {
     "name": "stderr",
     "output_type": "stream",
     "text": [
      " 22%|███████████████████████▏                                                                               | 108/480 [32:01<1:50:52, 17.88s/it]"
     ]
    },
    {
     "name": "stdout",
     "output_type": "stream",
     "text": [
      "Prop. variance kept in the reduction: 0.998877\n"
     ]
    },
    {
     "name": "stderr",
     "output_type": "stream",
     "text": [
      " 23%|███████████████████████▍                                                                               | 109/480 [32:19<1:51:08, 17.97s/it]"
     ]
    },
    {
     "name": "stdout",
     "output_type": "stream",
     "text": [
      "0.019345621449335423\n",
      "Prop. variance kept in the reduction: 0.998897\n"
     ]
    },
    {
     "name": "stderr",
     "output_type": "stream",
     "text": [
      " 23%|███████████████████████▌                                                                               | 110/480 [32:36<1:50:02, 17.84s/it]"
     ]
    },
    {
     "name": "stdout",
     "output_type": "stream",
     "text": [
      "Prop. variance kept in the reduction: 0.998946\n"
     ]
    },
    {
     "name": "stderr",
     "output_type": "stream",
     "text": [
      " 23%|███████████████████████▊                                                                               | 111/480 [32:56<1:53:01, 18.38s/it]"
     ]
    },
    {
     "name": "stdout",
     "output_type": "stream",
     "text": [
      "0.019797017966537232\n",
      "Prop. variance kept in the reduction: 0.998965\n"
     ]
    },
    {
     "name": "stderr",
     "output_type": "stream",
     "text": [
      " 23%|████████████████████████                                                                               | 112/480 [33:14<1:51:34, 18.19s/it]"
     ]
    },
    {
     "name": "stdout",
     "output_type": "stream",
     "text": [
      "Prop. variance kept in the reduction: 0.999008\n"
     ]
    },
    {
     "name": "stderr",
     "output_type": "stream",
     "text": [
      " 24%|████████████████████████▏                                                                              | 113/480 [33:38<2:02:40, 20.06s/it]"
     ]
    },
    {
     "name": "stdout",
     "output_type": "stream",
     "text": [
      "0.01842154765800964\n",
      "Prop. variance kept in the reduction: 0.999031\n"
     ]
    },
    {
     "name": "stderr",
     "output_type": "stream",
     "text": [
      " 24%|████████████████████████▍                                                                              | 114/480 [34:04<2:12:29, 21.72s/it]"
     ]
    },
    {
     "name": "stdout",
     "output_type": "stream",
     "text": [
      "Prop. variance kept in the reduction: 0.999067\n"
     ]
    },
    {
     "name": "stderr",
     "output_type": "stream",
     "text": [
      " 24%|████████████████████████▋                                                                              | 115/480 [34:23<2:06:38, 20.82s/it]"
     ]
    },
    {
     "name": "stdout",
     "output_type": "stream",
     "text": [
      "0.01943358231029687\n",
      "Prop. variance kept in the reduction: 0.999089\n"
     ]
    },
    {
     "name": "stderr",
     "output_type": "stream",
     "text": [
      " 24%|████████████████████████▉                                                                              | 116/480 [34:51<2:19:51, 23.05s/it]"
     ]
    },
    {
     "name": "stdout",
     "output_type": "stream",
     "text": [
      "Prop. variance kept in the reduction: 0.999129\n"
     ]
    },
    {
     "name": "stderr",
     "output_type": "stream",
     "text": [
      " 24%|█████████████████████████                                                                              | 117/480 [35:21<2:32:10, 25.15s/it]"
     ]
    },
    {
     "name": "stdout",
     "output_type": "stream",
     "text": [
      "0.020125067309378013\n",
      "Prop. variance kept in the reduction: 0.999144\n"
     ]
    },
    {
     "name": "stderr",
     "output_type": "stream",
     "text": [
      " 25%|█████████████████████████▎                                                                             | 118/480 [35:50<2:39:11, 26.38s/it]"
     ]
    },
    {
     "name": "stdout",
     "output_type": "stream",
     "text": [
      "Prop. variance kept in the reduction: 0.999184\n"
     ]
    },
    {
     "name": "stderr",
     "output_type": "stream",
     "text": [
      " 25%|█████████████████████████▌                                                                             | 119/480 [36:20<2:45:35, 27.52s/it]"
     ]
    },
    {
     "name": "stdout",
     "output_type": "stream",
     "text": [
      "0.020144796005230146\n",
      "Prop. variance kept in the reduction: 0.999199\n"
     ]
    },
    {
     "name": "stderr",
     "output_type": "stream",
     "text": [
      " 25%|█████████████████████████▊                                                                             | 120/480 [36:49<2:47:52, 27.98s/it]"
     ]
    },
    {
     "name": "stdout",
     "output_type": "stream",
     "text": [
      "Prop. variance kept in the reduction: 0.999227\n"
     ]
    },
    {
     "name": "stderr",
     "output_type": "stream",
     "text": [
      " 25%|█████████████████████████▉                                                                             | 121/480 [37:17<2:46:39, 27.85s/it]"
     ]
    },
    {
     "name": "stdout",
     "output_type": "stream",
     "text": [
      "0.019022536726227973\n",
      "Prop. variance kept in the reduction: 0.999241\n"
     ]
    },
    {
     "name": "stderr",
     "output_type": "stream",
     "text": [
      " 25%|██████████████████████████▏                                                                            | 122/480 [37:35<2:28:33, 24.90s/it]"
     ]
    },
    {
     "name": "stdout",
     "output_type": "stream",
     "text": [
      "Prop. variance kept in the reduction: 0.999258\n"
     ]
    },
    {
     "name": "stderr",
     "output_type": "stream",
     "text": [
      " 26%|██████████████████████████▍                                                                            | 123/480 [37:53<2:15:45, 22.82s/it]"
     ]
    },
    {
     "name": "stdout",
     "output_type": "stream",
     "text": [
      "0.018753926746181142\n",
      "Prop. variance kept in the reduction: 0.999264\n"
     ]
    },
    {
     "name": "stderr",
     "output_type": "stream",
     "text": [
      " 26%|██████████████████████████▌                                                                            | 124/480 [38:10<2:05:46, 21.20s/it]"
     ]
    },
    {
     "name": "stdout",
     "output_type": "stream",
     "text": [
      "Prop. variance kept in the reduction: 0.999277\n"
     ]
    },
    {
     "name": "stderr",
     "output_type": "stream",
     "text": [
      " 26%|██████████████████████████▊                                                                            | 125/480 [38:28<1:59:37, 20.22s/it]"
     ]
    },
    {
     "name": "stdout",
     "output_type": "stream",
     "text": [
      "0.020401083347045757\n",
      "Prop. variance kept in the reduction: 0.999270\n"
     ]
    },
    {
     "name": "stderr",
     "output_type": "stream",
     "text": [
      " 26%|███████████████████████████                                                                            | 126/480 [38:46<1:54:19, 19.38s/it]"
     ]
    },
    {
     "name": "stdout",
     "output_type": "stream",
     "text": [
      "Prop. variance kept in the reduction: 0.999279\n"
     ]
    },
    {
     "name": "stderr",
     "output_type": "stream",
     "text": [
      " 26%|███████████████████████████▎                                                                           | 127/480 [39:04<1:51:50, 19.01s/it]"
     ]
    },
    {
     "name": "stdout",
     "output_type": "stream",
     "text": [
      "0.019687682795445426\n",
      "Prop. variance kept in the reduction: 0.999266\n"
     ]
    },
    {
     "name": "stderr",
     "output_type": "stream",
     "text": [
      " 27%|███████████████████████████▍                                                                           | 128/480 [39:21<1:48:47, 18.54s/it]"
     ]
    },
    {
     "name": "stdout",
     "output_type": "stream",
     "text": [
      "Prop. variance kept in the reduction: 0.999263\n"
     ]
    },
    {
     "name": "stderr",
     "output_type": "stream",
     "text": [
      " 27%|███████████████████████████▋                                                                           | 129/480 [39:40<1:49:02, 18.64s/it]"
     ]
    },
    {
     "name": "stdout",
     "output_type": "stream",
     "text": [
      "0.019680915079244132\n",
      "Prop. variance kept in the reduction: 0.999252\n"
     ]
    },
    {
     "name": "stderr",
     "output_type": "stream",
     "text": [
      " 27%|███████████████████████████▉                                                                           | 130/480 [39:58<1:47:50, 18.49s/it]"
     ]
    },
    {
     "name": "stdout",
     "output_type": "stream",
     "text": [
      "Prop. variance kept in the reduction: 0.999237\n"
     ]
    },
    {
     "name": "stderr",
     "output_type": "stream",
     "text": [
      " 27%|████████████████████████████                                                                           | 131/480 [40:17<1:47:44, 18.52s/it]"
     ]
    },
    {
     "name": "stdout",
     "output_type": "stream",
     "text": [
      "0.020982827197344196\n",
      "Prop. variance kept in the reduction: 0.999230\n"
     ]
    },
    {
     "name": "stderr",
     "output_type": "stream",
     "text": [
      " 28%|████████████████████████████▎                                                                          | 132/480 [40:35<1:46:42, 18.40s/it]"
     ]
    },
    {
     "name": "stdout",
     "output_type": "stream",
     "text": [
      "Prop. variance kept in the reduction: 0.999207\n"
     ]
    },
    {
     "name": "stderr",
     "output_type": "stream",
     "text": [
      " 28%|████████████████████████████▌                                                                          | 133/480 [40:55<1:48:54, 18.83s/it]"
     ]
    },
    {
     "name": "stdout",
     "output_type": "stream",
     "text": [
      "0.020083933710085034\n",
      "Prop. variance kept in the reduction: 0.999197\n"
     ]
    },
    {
     "name": "stderr",
     "output_type": "stream",
     "text": [
      " 28%|████████████████████████████▊                                                                          | 134/480 [41:14<1:49:22, 18.97s/it]"
     ]
    },
    {
     "name": "stdout",
     "output_type": "stream",
     "text": [
      "Prop. variance kept in the reduction: 0.999177\n"
     ]
    },
    {
     "name": "stderr",
     "output_type": "stream",
     "text": [
      " 28%|████████████████████████████▉                                                                          | 135/480 [41:34<1:50:36, 19.24s/it]"
     ]
    },
    {
     "name": "stdout",
     "output_type": "stream",
     "text": [
      "0.01972136236606342\n",
      "Prop. variance kept in the reduction: 0.999163\n"
     ]
    },
    {
     "name": "stderr",
     "output_type": "stream",
     "text": [
      " 28%|█████████████████████████████▏                                                                         | 136/480 [41:53<1:50:19, 19.24s/it]"
     ]
    },
    {
     "name": "stdout",
     "output_type": "stream",
     "text": [
      "Prop. variance kept in the reduction: 0.999139\n"
     ]
    },
    {
     "name": "stderr",
     "output_type": "stream",
     "text": [
      " 29%|█████████████████████████████▍                                                                         | 137/480 [42:13<1:51:00, 19.42s/it]"
     ]
    },
    {
     "name": "stdout",
     "output_type": "stream",
     "text": [
      "0.020790155908250178\n",
      "Prop. variance kept in the reduction: 0.999132\n"
     ]
    },
    {
     "name": "stderr",
     "output_type": "stream",
     "text": [
      " 29%|█████████████████████████████▌                                                                         | 138/480 [42:32<1:50:30, 19.39s/it]"
     ]
    }
   ],
   "source": [
    "t = 0.\n",
    "t_final = 2. * period / time_ref\n",
    "nt = np.int32(np.round(t_final / control[\"dt\"]))\n",
    "nt_obs = len([i for i in range(nt) if i % 2 == 0])\n",
    "\n",
    "means = np.zeros((nt, swe.mean.shape[0]))\n",
    "variances = np.zeros((nt, swe.mean.shape[0]))\n",
    "lml = np.zeros((nt_obs, ))\n",
    "\n",
    "i_dat = 0\n",
    "for i in trange(nt):\n",
    "    t += swe.dt\n",
    "    swe.inlet_velocity.t = t\n",
    "    swe.prediction_step(t)\n",
    "    \n",
    "    if i % 2 == 0:\n",
    "        assert np.isclose(t_data[i_dat], t)\n",
    "        y_obs = np.concatenate((u_data[i_dat, mask_obs][::20], \n",
    "                                v_data[i_dat, mask_obs][::20]))\n",
    "        lml[i_dat] = swe.update_step(y_obs, compute_lml=True)\n",
    "        print(\n",
    "            np.linalg.norm(y_obs - H @ swe.du.vector().get_local()) \n",
    "            / np.sqrt(len(y_obs)))\n",
    "        i_dat += 1\n",
    "        \n",
    "    swe.set_prev()"
   ]
  },
  {
   "cell_type": "code",
   "execution_count": null,
   "id": "eed50c0e-4dfe-41a2-9906-c4ad2d7b60d6",
   "metadata": {},
   "outputs": [],
   "source": [
    "vel, h = swe.du.split()\n",
    "u, v = vel.split()\n",
    "\n",
    "im = fe.plot(u)\n",
    "plt.colorbar(im)\n",
    "plt.show()\n",
    "\n",
    "im = fe.plot(v)\n",
    "plt.colorbar(im)\n",
    "plt.show()"
   ]
  },
  {
   "cell_type": "code",
   "execution_count": null,
   "id": "3917e4b8-abec-4b6d-ad9d-6bf6311b8f7a",
   "metadata": {},
   "outputs": [],
   "source": [
    "var_v = np.sqrt(np.sum(swe.cov_sqrt**2, axis=1))\n",
    "var_f = fe.Function(swe.W)\n",
    "var_f.vector().set_local(var_v)\n",
    "\n",
    "vel, h = var_f.split()\n",
    "u, v = vel.split()\n",
    "\n",
    "im = fe.plot(u)\n",
    "plt.colorbar(im)\n",
    "plt.show()\n",
    "\n",
    "im = fe.plot(v)\n",
    "plt.colorbar(im)\n",
    "plt.show()"
   ]
  },
  {
   "cell_type": "code",
   "execution_count": null,
   "id": "8a864025-af80-42c5-89cd-4efd44ea5a66",
   "metadata": {},
   "outputs": [],
   "source": [
    "plt.plot(lml, \".-\")\n",
    "plt.show()"
   ]
  },
  {
   "cell_type": "code",
   "execution_count": null,
   "id": "5316ebd9-e3a2-4e7f-a139-357abb4a7903",
   "metadata": {},
   "outputs": [],
   "source": [
    "t += swe.dt\n",
    "%load_ext line_profiler\n",
    "%lprun -f swe.prediction_step swe.prediction_step(t)\n",
    "swe.set_prev()"
   ]
  }
 ],
 "metadata": {
  "kernelspec": {
   "display_name": "Python 3 (ipykernel)",
   "language": "python",
   "name": "python3"
  },
  "language_info": {
   "codemirror_mode": {
    "name": "ipython",
    "version": 3
   },
   "file_extension": ".py",
   "mimetype": "text/x-python",
   "name": "python",
   "nbconvert_exporter": "python",
   "pygments_lexer": "ipython3",
   "version": "3.10.5"
  }
 },
 "nbformat": 4,
 "nbformat_minor": 5
}
