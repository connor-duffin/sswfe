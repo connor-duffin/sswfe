{
 "cells": [
  {
   "cell_type": "code",
   "execution_count": 5,
   "id": "018ec486-9ba9-46be-b7a5-830215eb8b07",
   "metadata": {},
   "outputs": [],
   "source": [
    "import h5py\n",
    "import logging\n",
    "\n",
    "import numpy as np\n",
    "import matplotlib.pyplot as plt\n",
    "import fenics as fe\n",
    "\n",
    "from tqdm import trange\n",
    "from numpy.testing import assert_allclose\n",
    "\n",
    "from swfe.swe_2d import ShallowTwo, ShallowTwoFilter\n",
    "from statfenics.utils import build_observation_operator\n",
    "\n",
    "# load extension and check it's OK\n",
    "%load_ext line_profiler\n",
    "\n",
    "logging.basicConfig(level=logging.INFO)\n",
    "fe.set_log_level(50)"
   ]
  },
  {
   "cell_type": "code",
   "execution_count": 7,
   "id": "3125dabf-a93d-4d0d-93a5-af3352423371",
   "metadata": {},
   "outputs": [
    {
     "name": "stderr",
     "output_type": "stream",
     "text": [
      "INFO:swfe.swe_2d:reading mesh from file\n",
      "INFO:swfe.swe_2d:mesh has 30914 elements\n",
      "INFO:swfe.swe_2d:dx(max) = 0.16463, dx(min): 0.01647\n",
      "INFO:swfe.swe_2d:CFL number is 1.214464\n",
      "INFO:swfe.swe_2d:using mumps solver with default PC\n"
     ]
    }
   ],
   "source": [
    "# physical settings\n",
    "period = 120.\n",
    "nu = 1e-6\n",
    "g = 9.8\n",
    "\n",
    "# reference values\n",
    "u_ref = 0.01  # cm/s\n",
    "length_ref = 0.1  # cylinder\n",
    "time_ref = length_ref / u_ref\n",
    "H_ref = length_ref\n",
    "\n",
    "# compute reynolds number\n",
    "Re = u_ref * length_ref / nu\n",
    "\n",
    "params = dict(\n",
    "    nu=1 / Re, g=g * length_ref / u_ref**2, C=0., H=0.053 / H_ref,\n",
    "    u_inflow=0.004 / u_ref, inflow_period=period / time_ref,\n",
    "    length=20., width=10.)\n",
    "control = dict(\n",
    "    dt=5e-2,\n",
    "    theta=0.5,\n",
    "    simulation=\"laminar\",\n",
    "    use_imex=False,\n",
    "    use_les=False)\n",
    "\n",
    "mesh = \"../mesh/branson-mesh-nondim.xdmf\"\n",
    "swe = ShallowTwoFilter(mesh, params, control, comm=fe.MPI.comm_world)\n",
    "\n",
    "# check that all the dofs line up\n",
    "assert_allclose(np.unique(swe.W.dofmap().dofs()),\n",
    "                np.unique(np.concatenate((swe.u_dofs,\n",
    "                                          swe.v_dofs,\n",
    "                                          swe.h_dofs))))\n",
    "swe.setup_form()\n",
    "swe.setup_solver()"
   ]
  },
  {
   "cell_type": "code",
   "execution_count": 8,
   "id": "3f6e5083-01d8-40cc-af7e-fed8e86cc865",
   "metadata": {},
   "outputs": [
    {
     "name": "stderr",
     "output_type": "stream",
     "text": [
      "INFO:statfenics.covariance:Eigenvalues converged: 17\n",
      "INFO:statfenics.covariance:Laplacian eigenvalues: [0.49538112 0.49889808 0.79504997 0.81095127 1.28545657 1.32998194\n",
      " 1.65461323 1.67887616 1.88845461 1.94320277 1.97801673 2.05393685\n",
      " 2.29468523 2.47632819 2.70765522 2.88391652]\n",
      "INFO:swfe.swe_2d:Spectral diff (u): 7.8578e-08, 9.3316e-06\n",
      "INFO:statfenics.covariance:Eigenvalues converged: 17\n",
      "INFO:statfenics.covariance:Laplacian eigenvalues: [0.49538112 0.49889808 0.79504997 0.81095127 1.28545657 1.32998194\n",
      " 1.65461323 1.67887616 1.88845461 1.94320277 1.97801673 2.05393685\n",
      " 2.29468523 2.47632819 2.70765522 2.88391652]\n",
      "INFO:swfe.swe_2d:Spectral diff (v): 7.8578e-08, 9.3316e-06\n",
      "WARNING:swfe.swe_2d:Obs. operator and noise not parsed: setup for prior run ONLY\n"
     ]
    }
   ],
   "source": [
    "# setup filter (basically compute prior additive noise covariance)\n",
    "rho = 1e-3\n",
    "ell = 2.\n",
    "k = 16\n",
    "stat_params = dict(rho_u=rho, rho_v=rho, rho_h=0.,\n",
    "                   ell_u=ell, ell_v=ell, ell_h=ell,\n",
    "                   k_init_u=k, k_init_v=k, k_init_h=0, k=32)\n",
    "swe.setup_filter(stat_params)"
   ]
  },
  {
   "cell_type": "code",
   "execution_count": 9,
   "id": "d49f6d10-3896-4e87-b4eb-794b8a922719",
   "metadata": {},
   "outputs": [
    {
     "data": {
      "image/png": "[encoded data removed]",
      "text/plain": [
       "<Figure size 432x288 with 1 Axes>"
      ]
     },
     "metadata": {
      "needs_background": "light"
     },
     "output_type": "display_data"
    }
   ],
   "source": [
    "plt.plot(swe.Ku_vals, \"o-\")\n",
    "plt.plot(swe.Kv_vals, \"o-\")\n",
    "plt.show()"
   ]
  },
  {
   "cell_type": "code",
   "execution_count": 10,
   "id": "e6f97cf7-522e-4fd4-aaab-5c988d9a9339",
   "metadata": {},
   "outputs": [],
   "source": [
    "t = 0.\n",
    "t_final = 0.25 * period / time_ref\n",
    "nt = np.int32(np.round(t_final / control[\"dt\"]))"
   ]
  },
  {
   "cell_type": "code",
   "execution_count": 14,
   "id": "72417a63-0865-48c0-a9a6-8d2bc175534f",
   "metadata": {},
   "outputs": [
    {
     "name": "stderr",
     "output_type": "stream",
     "text": [
      "INFO:swfe.swe_2d:Prop. variance kept in reduction: 0.98785\n"
     ]
    },
    {
     "data": {
      "text/plain": [
       "Timer unit: 1e-06 s\n",
       "\n",
       "Total time: 1.07079 s\n",
       "File: /home/connor/Projects/20220609-swfe/swfe/swfe/swe_2d.py\n",
       "Function: assemble_derivatives at line 466\n",
       "\n",
       "Line #      Hits         Time  Per Hit   % Time  Line Contents\n",
       "==============================================================\n",
       "   466                                               def assemble_derivatives(self):\n",
       "   467         1     517638.0 517638.0     48.3          fe.assemble(self.J, tensor=self.J_mat)\n",
       "   468         1     522117.0 522117.0     48.8          fe.assemble(self.J_prev, tensor=self.J_prev_mat)\n",
       "   469                                           \n",
       "   470                                                   # set things up appropriately\n",
       "   471         3          5.0      1.7      0.0          for J in [self.J_mat, self.J_prev_mat]:\n",
       "   472         4        345.0     86.2      0.0              for bc in self.bcs: bc.apply(J)\n",
       "   473                                           \n",
       "   474                                                   # TODO(connor): re-use sparsity pattern and speed-up\n",
       "   475         1      13957.0  13957.0      1.3          self.J_scipy = dolfin_to_csr(self.J_mat)\n",
       "   476         1      16732.0  16732.0      1.6          self.J_prev_scipy = dolfin_to_csr(self.J_prev_mat)"
      ]
     },
     "metadata": {},
     "output_type": "display_data"
    }
   ],
   "source": [
    "t += swe.dt\n",
    "%lprun -f swe.assemble_derivatives swe.prediction_step(t)\n",
    "swe.set_prev()"
   ]
  },
  {
   "cell_type": "code",
   "execution_count": 2,
   "id": "7edab422-66d3-4ef9-a97f-9547c933510b",
   "metadata": {
    "tags": []
   },
   "outputs": [
    {
     "ename": "NameError",
     "evalue": "name 'np' is not defined",
     "output_type": "error",
     "traceback": [
      "\u001b[0;31m---------------------------------------------------------------------------\u001b[0m",
      "\u001b[0;31mNameError\u001b[0m                                 Traceback (most recent call last)",
      "Input \u001b[0;32mIn [2]\u001b[0m, in \u001b[0;36m<cell line: 1>\u001b[0;34m()\u001b[0m\n\u001b[0;32m----> 1\u001b[0m means \u001b[38;5;241m=\u001b[39m \u001b[43mnp\u001b[49m\u001b[38;5;241m.\u001b[39mzeros((nt, swe\u001b[38;5;241m.\u001b[39mmean\u001b[38;5;241m.\u001b[39mshape[\u001b[38;5;241m0\u001b[39m]))\n\u001b[1;32m      2\u001b[0m variances \u001b[38;5;241m=\u001b[39m np\u001b[38;5;241m.\u001b[39mzeros((nt, swe\u001b[38;5;241m.\u001b[39mmean\u001b[38;5;241m.\u001b[39mshape[\u001b[38;5;241m0\u001b[39m]))\n\u001b[1;32m      3\u001b[0m eff_ranks \u001b[38;5;241m=\u001b[39m np\u001b[38;5;241m.\u001b[39mzeros((nt, ))\n",
      "\u001b[0;31mNameError\u001b[0m: name 'np' is not defined"
     ]
    }
   ],
   "source": [
    "means = np.zeros((nt, swe.mean.shape[0]))\n",
    "variances = np.zeros((nt, swe.mean.shape[0]))\n",
    "eff_ranks = np.zeros((nt, ))\n",
    "\n",
    "i_dat = 0\n",
    "for i in trange(nt):\n",
    "    t += swe.dt\n",
    "    swe.inlet_velocity.t = t\n",
    "    swe.prediction_step(t)\n",
    "    \n",
    "    means[i, :] = swe.mean.copy()\n",
    "    variances[i, :] = np.sum(swe.cov_sqrt**2, axis=1)\n",
    "    eff_ranks[i] = swe.eff_rank\n",
    "    logging.info('Effective rank: %.5f', swe.eff_rank)\n",
    "    \n",
    "    swe.set_prev()"
   ]
  },
  {
   "cell_type": "code",
   "execution_count": null,
   "id": "eed50c0e-4dfe-41a2-9906-c4ad2d7b60d6",
   "metadata": {},
   "outputs": [],
   "source": [
    "vel, h = swe.du.split()\n",
    "u, v = vel.split()\n",
    "\n",
    "im = fe.plot(u)\n",
    "plt.colorbar(im)\n",
    "plt.show()\n",
    "\n",
    "im = fe.plot(v)\n",
    "plt.colorbar(im)\n",
    "plt.show()\n",
    "\n",
    "im = fe.plot(h)\n",
    "plt.colorbar(im)\n",
    "plt.show()"
   ]
  },
  {
   "cell_type": "code",
   "execution_count": null,
   "id": "5316ebd9-e3a2-4e7f-a139-357abb4a7903",
   "metadata": {},
   "outputs": [],
   "source": [
    "var_v = np.sqrt(np.sum(swe.cov_sqrt**2, axis=1))\n",
    "var_f = fe.Function(swe.W)\n",
    "var_f.vector().set_local(var_v)\n",
    "\n",
    "vel, h = var_f.split()\n",
    "u, v = vel.split()\n",
    "\n",
    "im = fe.plot(u)\n",
    "plt.colorbar(im)\n",
    "plt.show()\n",
    "\n",
    "im = fe.plot(h)\n",
    "plt.colorbar(im)\n",
    "plt.show()"
   ]
  },
  {
   "cell_type": "code",
   "execution_count": null,
   "id": "cbd482a4-28c6-43a5-b963-d1e04955372b",
   "metadata": {},
   "outputs": [],
   "source": [
    "t += swe.dt\n",
    "%load_ext line_profiler\n",
    "%lprun -f swe.prediction_step swe.prediction_step(t)\n",
    "swe.set_prev()"
   ]
  },
  {
   "cell_type": "code",
   "execution_count": null,
   "id": "2bbab67e-a900-4ee0-a78c-8cd56f97a9b2",
   "metadata": {},
   "outputs": [],
   "source": []
  }
 ],
 "metadata": {
  "kernelspec": {
   "display_name": "Python 3 (ipykernel)",
   "language": "python",
   "name": "python3"
  },
  "language_info": {
   "codemirror_mode": {
    "name": "ipython",
    "version": 3
   },
   "file_extension": ".py",
   "mimetype": "text/x-python",
   "name": "python",
   "nbconvert_exporter": "python",
   "pygments_lexer": "ipython3",
   "version": "3.10.5"
  }
 },
 "nbformat": 4,
 "nbformat_minor": 5
}
