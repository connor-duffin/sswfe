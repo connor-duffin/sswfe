{
 "cells": [
  {
   "cell_type": "code",
   "execution_count": 1,
   "id": "7272ebb4-21fc-4c54-b238-c518ba8bcbc2",
   "metadata": {},
   "outputs": [],
   "source": [
    "import h5py\n",
    "import os\n",
    "\n",
    "import fenics as fe\n",
    "import numpy as np\n",
    "import matplotlib.pyplot as plt\n",
    "\n",
    "from tqdm import tqdm\n",
    "\n",
    "import sys\n",
    "sys.path.insert(0, \"../scripts/\")\n",
    "\n",
    "from ns_2d import NSSemiImplicit, NSSplit\n",
    "\n",
    "fe.set_log_level(40)"
   ]
  },
  {
   "cell_type": "code",
   "execution_count": 2,
   "id": "613ec560-b3c7-475d-b5d0-3e8f2ba72782",
   "metadata": {},
   "outputs": [
    {
     "data": {
      "image/png": "[encoded data removed]",
      "text/plain": [
       "<Figure size 432x288 with 1 Axes>"
      ]
     },
     "metadata": {
      "needs_background": "light"
     },
     "output_type": "display_data"
    }
   ],
   "source": [
    "mesh = \"../mesh/featflow-2d-3-benchmark.xdmf\"\n",
    "ns = NSSemiImplicit(mesh, dict(dt=1/1000))\n",
    "ns.setup_form()\n",
    "\n",
    "ns_split = NSSplit(mesh, dict(dt=1/1000))\n",
    "ns_split.setup_form()\n",
    "ns_split.solve()\n",
    "\n",
    "assert ns.t == ns_split.t\n",
    "\n",
    "fe.plot(ns.mesh)\n",
    "plt.show()\n",
    "\n",
    "ns.setup_form()"
   ]
  },
  {
   "cell_type": "code",
   "execution_count": 3,
   "id": "9dbc03a4-50ae-4729-9135-ebe65802eed6",
   "metadata": {
    "tags": []
   },
   "outputs": [
    {
     "name": "stderr",
     "output_type": "stream",
     "text": [
      "100%|███████████████████████████████████████████████████████████████████████████████████████████████████████████████████████████████████████████████████| 198/198 [01:52<00:00,  1.76it/s]\n"
     ]
    }
   ],
   "source": [
    "t_final = 0.2\n",
    "nt = int((t_final - ns.t) / ns.dt)\n",
    "for i in tqdm(range(nt)):\n",
    "    ns.solve()\n",
    "    ns_split.solve()"
   ]
  },
  {
   "cell_type": "code",
   "execution_count": 4,
   "id": "4a73374e-caf0-4da0-ae6a-08df860f3e54",
   "metadata": {},
   "outputs": [
    {
     "data": {
      "image/png": "[encoded data removed]",
      "text/plain": [
       "<Figure size 432x288 with 1 Axes>"
      ]
     },
     "metadata": {
      "needs_background": "light"
     },
     "output_type": "display_data"
    },
    {
     "data": {
      "image/png": "[encoded data removed]",
      "text/plain": [
       "<Figure size 432x288 with 1 Axes>"
      ]
     },
     "metadata": {
      "needs_background": "light"
     },
     "output_type": "display_data"
    },
    {
     "name": "stdout",
     "output_type": "stream",
     "text": [
      "0.00038631238681266185\n"
     ]
    }
   ],
   "source": [
    "u, p = fe.split(ns.du)\n",
    "u, v = fe.split(u)\n",
    "\n",
    "fe.plot(u)\n",
    "plt.show()\n",
    "\n",
    "fe.plot(fe.split(ns_split.u)[0])\n",
    "plt.show()\n",
    "\n",
    "print(fe.errornorm(ns.du.split()[0], ns_split.u))"
   ]
  },
  {
   "cell_type": "code",
   "execution_count": 4,
   "id": "4a3aa0a6-c6af-47ae-b752-8fd27ad65d2c",
   "metadata": {
    "tags": []
   },
   "outputs": [
    {
     "name": "stderr",
     "output_type": "stream",
     "text": [
      "  0%|                                                                                                                                                             | 0/199 [08:20<?, ?it/s]"
     ]
    },
    {
     "name": "stdout",
     "output_type": "stream",
     "text": [
      "  0 KSP preconditioned resid norm 1.070152329386e-01 true resid norm 9.392566044406e-03 ||r(i)||/||b|| 1.000000000000e+00\n",
      "  1 KSP preconditioned resid norm 5.271509761906e-03 true resid norm 3.609278050543e-05 ||r(i)||/||b|| 3.842696483026e-03\n",
      "  2 KSP preconditioned resid norm 3.651189310794e-03 true resid norm 2.386623162945e-05 ||r(i)||/||b|| 2.540970328728e-03\n",
      "  3 KSP preconditioned resid norm 7.622666645438e-07 true resid norm 1.061315944712e-08 ||r(i)||/||b|| 1.129953134952e-06\n",
      "  4 KSP preconditioned resid norm 9.860196366434e-10 true resid norm 7.237513475486e-09 ||r(i)||/||b|| 7.705576347581e-07\n",
      "KSP Object: 1 MPI processes\n",
      "  type: gmres\n",
      "    restart=30, using Classical (unmodified) Gram-Schmidt Orthogonalization with no iterative refinement\n",
      "    happy breakdown tolerance 1e-30\n",
      "  maximum iterations=1000, initial guess is zero\n",
      "  tolerances:  relative=1e-07, absolute=1e-10, divergence=10000.\n",
      "  left preconditioning\n",
      "  using PRECONDITIONED norm type for convergence test\n",
      "PC Object: 1 MPI processes\n",
      "  type: fieldsplit\n",
      "    FieldSplit with Schur preconditioner, blocksize = 1, factorization FULL\n",
      "    Preconditioner for the Schur complement formed from S itself\n",
      "    Split info:\n",
      "    Split number 0 Defined by IS\n",
      "    Split number 1 Defined by IS\n",
      "    KSP solver for A00 block\n",
      "      KSP Object: (fieldsplit_0_) 1 MPI processes\n",
      "        type: gmres\n",
      "          restart=30, using Classical (unmodified) Gram-Schmidt Orthogonalization with no iterative refinement\n",
      "          happy breakdown tolerance 1e-30\n",
      "        maximum iterations=10000, initial guess is zero\n",
      "        tolerances:  relative=1e-05, absolute=1e-50, divergence=10000.\n",
      "        left preconditioning\n",
      "        using PRECONDITIONED norm type for convergence test\n",
      "      PC Object: (fieldsplit_0_) 1 MPI processes\n",
      "        type: hypre\n",
      "          HYPRE BoomerAMG preconditioning\n",
      "            Cycle type V\n",
      "            Maximum number of levels 25\n",
      "            Maximum number of iterations PER hypre call 1\n",
      "            Convergence tolerance PER hypre call 0.\n",
      "            Threshold for strong coupling 0.25\n",
      "            Interpolation truncation factor 0.\n",
      "            Interpolation: max elements per row 0\n",
      "            Number of levels of aggressive coarsening 0\n",
      "            Number of paths for aggressive coarsening 1\n",
      "            Maximum row sums 0.9\n",
      "            Sweeps down         1\n",
      "            Sweeps up           1\n",
      "            Sweeps on coarse    1\n",
      "            Relax down          symmetric-SOR/Jacobi\n",
      "            Relax up            symmetric-SOR/Jacobi\n",
      "            Relax on coarse     Gaussian-elimination\n",
      "            Relax weight  (all)      1.\n",
      "            Outer relax weight (all) 1.\n",
      "            Using CF-relaxation\n",
      "            Not using more complex smoothers.\n",
      "            Measure type        local\n",
      "            Coarsen type        Falgout\n",
      "            Interpolation type  classical\n",
      "            SpGEMM type         cusparse\n",
      "        linear system matrix = precond matrix:\n",
      "        Mat Object: (fieldsplit_0_) 1 MPI processes\n",
      "          type: seqaij\n",
      "          rows=30428, cols=30428\n",
      "          total: nonzeros=689584, allocated nonzeros=689584\n",
      "          total number of mallocs used during MatSetValues calls=0\n",
      "            not using I-node routines\n",
      "    KSP solver for S = A11 - A10 inv(A00) A01 \n",
      "      KSP Object: (fieldsplit_1_) 1 MPI processes\n",
      "        type: gmres\n",
      "          restart=30, using Classical (unmodified) Gram-Schmidt Orthogonalization with no iterative refinement\n",
      "          happy breakdown tolerance 1e-30\n",
      "        maximum iterations=10000, initial guess is zero\n",
      "        tolerances:  relative=1e-05, absolute=1e-50, divergence=10000.\n",
      "        left preconditioning\n",
      "        using PRECONDITIONED norm type for convergence test\n",
      "      PC Object: (fieldsplit_1_) 1 MPI processes\n",
      "        type: lsc\n",
      "          KSP Object: (fieldsplit_1_lsc_) 1 MPI processes\n",
      "            type: preonly\n",
      "            maximum iterations=10000, initial guess is zero\n",
      "            tolerances:  relative=1e-05, absolute=1e-50, divergence=10000.\n",
      "            left preconditioning\n",
      "            using NONE norm type for convergence test\n",
      "          PC Object: (fieldsplit_1_lsc_) 1 MPI processes\n",
      "            type: ilu\n",
      "              out-of-place factorization\n",
      "              0 levels of fill\n",
      "              tolerance for zero pivot 2.22045e-14\n",
      "              matrix ordering: natural\n",
      "              factor fill ratio given 1., needed 1.\n",
      "                Factored matrix follows:\n",
      "                  Mat Object: 1 MPI processes\n",
      "                    type: seqaij\n",
      "                    rows=3889, cols=3889\n",
      "                    package used to perform factorization: petsc\n",
      "                    total: nonzeros=71023, allocated nonzeros=71023\n",
      "                      not using I-node routines\n",
      "            linear system matrix = precond matrix:\n",
      "            Mat Object: 1 MPI processes\n",
      "              type: seqaij\n",
      "              rows=3889, cols=3889\n",
      "              total: nonzeros=71023, allocated nonzeros=71023\n",
      "              total number of mallocs used during MatSetValues calls=0\n",
      "                not using I-node routines\n",
      "        linear system matrix = precond matrix:\n",
      "        Mat Object: (fieldsplit_1_) 1 MPI processes\n",
      "          type: schurcomplement\n",
      "          rows=3889, cols=3889\n",
      "            Schur complement A11 - A10 inv(A00) A01\n",
      "            A11\n",
      "              Mat Object: (fieldsplit_1_) 1 MPI processes\n",
      "                type: seqaij\n",
      "                rows=3889, cols=3889\n",
      "                total: nonzeros=26539, allocated nonzeros=26539\n",
      "                total number of mallocs used during MatSetValues calls=0\n",
      "                  not using I-node routines\n",
      "            A10\n",
      "              Mat Object: 1 MPI processes\n",
      "                type: seqaij\n",
      "                rows=3889, cols=30428\n",
      "                total: nonzeros=142994, allocated nonzeros=142994\n",
      "                total number of mallocs used during MatSetValues calls=0\n",
      "                  not using I-node routines\n",
      "            KSP of A00\n",
      "              KSP Object: (fieldsplit_0_) 1 MPI processes\n",
      "                type: gmres\n",
      "                  restart=30, using Classical (unmodified) Gram-Schmidt Orthogonalization with no iterative refinement\n",
      "                  happy breakdown tolerance 1e-30\n",
      "                maximum iterations=10000, initial guess is zero\n",
      "                tolerances:  relative=1e-05, absolute=1e-50, divergence=10000.\n",
      "                left preconditioning\n",
      "                using PRECONDITIONED norm type for convergence test\n",
      "              PC Object: (fieldsplit_0_) 1 MPI processes\n",
      "                type: hypre\n",
      "                  HYPRE BoomerAMG preconditioning\n",
      "                    Cycle type V\n",
      "                    Maximum number of levels 25\n",
      "                    Maximum number of iterations PER hypre call 1\n",
      "                    Convergence tolerance PER hypre call 0.\n",
      "                    Threshold for strong coupling 0.25\n",
      "                    Interpolation truncation factor 0.\n",
      "                    Interpolation: max elements per row 0\n",
      "                    Number of levels of aggressive coarsening 0\n",
      "                    Number of paths for aggressive coarsening 1\n",
      "                    Maximum row sums 0.9\n",
      "                    Sweeps down         1\n",
      "                    Sweeps up           1\n",
      "                    Sweeps on coarse    1\n",
      "                    Relax down          symmetric-SOR/Jacobi\n",
      "                    Relax up            symmetric-SOR/Jacobi\n",
      "                    Relax on coarse     Gaussian-elimination\n",
      "                    Relax weight  (all)      1.\n",
      "                    Outer relax weight (all) 1.\n",
      "                    Using CF-relaxation\n",
      "                    Not using more complex smoothers.\n",
      "                    Measure type        local\n",
      "                    Coarsen type        Falgout\n",
      "                    Interpolation type  classical\n",
      "                    SpGEMM type         cusparse\n",
      "                linear system matrix = precond matrix:\n",
      "                Mat Object: (fieldsplit_0_) 1 MPI processes\n",
      "                  type: seqaij\n",
      "                  rows=30428, cols=30428\n",
      "                  total: nonzeros=689584, allocated nonzeros=689584\n",
      "                  total number of mallocs used during MatSetValues calls=0\n",
      "                    not using I-node routines\n",
      "            A01\n",
      "              Mat Object: 1 MPI processes\n",
      "                type: seqaij\n",
      "                rows=30428, cols=3889\n",
      "                total: nonzeros=142994, allocated nonzeros=142994\n",
      "                total number of mallocs used during MatSetValues calls=0\n",
      "                  not using I-node routines\n",
      "  linear system matrix = precond matrix:\n",
      "  Mat Object: 1 MPI processes\n",
      "    type: seqaij\n",
      "    rows=34317, cols=34317\n",
      "    total: nonzeros=1002111, allocated nonzeros=1002111\n",
      "    total number of mallocs used during MatSetValues calls=0\n",
      "      not using I-node routines\n"
     ]
    },
    {
     "name": "stderr",
     "output_type": "stream",
     "text": [
      "\n"
     ]
    },
    {
     "ename": "KeyboardInterrupt",
     "evalue": "",
     "output_type": "error",
     "traceback": [
      "\u001b[0;31m---------------------------------------------------------------------------\u001b[0m",
      "\u001b[0;31mKeyboardInterrupt\u001b[0m                         Traceback (most recent call last)",
      "Input \u001b[0;32mIn [4]\u001b[0m, in \u001b[0;36m<cell line: 10>\u001b[0;34m()\u001b[0m\n\u001b[1;32m      9\u001b[0m nt \u001b[38;5;241m=\u001b[39m \u001b[38;5;28mint\u001b[39m((\u001b[38;5;241m0.2\u001b[39m \u001b[38;5;241m-\u001b[39m ns\u001b[38;5;241m.\u001b[39mt) \u001b[38;5;241m/\u001b[39m ns\u001b[38;5;241m.\u001b[39mdt)\n\u001b[1;32m     10\u001b[0m \u001b[38;5;28;01mfor\u001b[39;00m i \u001b[38;5;129;01min\u001b[39;00m tqdm(\u001b[38;5;28mrange\u001b[39m(nt)):\n\u001b[0;32m---> 11\u001b[0m     \u001b[43mns\u001b[49m\u001b[38;5;241;43m.\u001b[39;49m\u001b[43msolve\u001b[49m\u001b[43m(\u001b[49m\u001b[43mkrylov\u001b[49m\u001b[38;5;241;43m=\u001b[39;49m\u001b[38;5;28;43;01mTrue\u001b[39;49;00m\u001b[43m)\u001b[49m\n\u001b[1;32m     12\u001b[0m     ns_split\u001b[38;5;241m.\u001b[39msolve(krylov\u001b[38;5;241m=\u001b[39m\u001b[38;5;28;01mTrue\u001b[39;00m)\n",
      "File \u001b[0;32m~/projects/20220609-swfe/docs/../scripts/ns_2d.py:177\u001b[0m, in \u001b[0;36msolve\u001b[0;34m(self, krylov)\u001b[0m\n\u001b[1;32m    174\u001b[0m for bc in self.bcu:\n\u001b[1;32m    175\u001b[0m     bc.apply(b)\n\u001b[0;32m--> 177\u001b[0m # solve via krylov methods\n\u001b[1;32m    178\u001b[0m if krylov:\n\u001b[1;32m    179\u001b[0m     self.krylov_solver.solve(self.du.vector(), b)\n",
      "\u001b[0;31mKeyboardInterrupt\u001b[0m: "
     ]
    }
   ],
   "source": [
    "# re-initialize and run through again\n",
    "ns = NSSemiImplicit(mesh, dict(dt=1/1000))\n",
    "ns.setup_form()\n",
    "\n",
    "ns_split = NSSplit(mesh, dict(dt=1/1000))\n",
    "ns_split.setup_form()\n",
    "ns_split.solve()\n",
    "\n",
    "nt = int((0.2 - ns.t) / ns.dt)\n",
    "for i in tqdm(range(nt)):\n",
    "    ns.solve(krylov=True)\n",
    "    ns_split.solve(krylov=True)"
   ]
  },
  {
   "cell_type": "code",
   "execution_count": null,
   "id": "dd7f8dbb-4803-4c5e-a8ce-43350bb3889b",
   "metadata": {
    "tags": []
   },
   "outputs": [],
   "source": [
    "u, p = fe.split(ns.du)\n",
    "u, v = fe.split(u)\n",
    "\n",
    "fe.plot(u)\n",
    "plt.title(\"Semi-implicit\")\n",
    "plt.show()\n",
    "\n",
    "fe.plot(fe.split(ns_split.u)[0])\n",
    "plt.title(\"Operator splitting\")\n",
    "plt.show()\n",
    "\n",
    "print(fe.errornorm(ns.du.split()[0], ns_split.u))"
   ]
  },
  {
   "cell_type": "code",
   "execution_count": null,
   "id": "079b3155-a9c0-43a1-bd9a-aeb572a8950c",
   "metadata": {},
   "outputs": [],
   "source": []
  }
 ],
 "metadata": {
  "kernelspec": {
   "display_name": "Python 3 (ipykernel)",
   "language": "python",
   "name": "python3"
  },
  "language_info": {
   "codemirror_mode": {
    "name": "ipython",
    "version": 3
   },
   "file_extension": ".py",
   "mimetype": "text/x-python",
   "name": "python",
   "nbconvert_exporter": "python",
   "pygments_lexer": "ipython3",
   "version": "3.10.5"
  }
 },
 "nbformat": 4,
 "nbformat_minor": 5
}
