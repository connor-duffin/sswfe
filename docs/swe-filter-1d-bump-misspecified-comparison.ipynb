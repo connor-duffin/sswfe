{
 "cells": [
  {
   "cell_type": "markdown",
   "id": "0fdcdc95-7fa7-4b62-872d-5968a57547b1",
   "metadata": {
    "tags": []
   },
   "source": [
    "# Analysing 1D SWE model outputs across a variety of different parameters\n",
    "\n",
    "Recall the SWE:\n",
    "\n",
    "\\begin{align*}\n",
    "    \\partial_t u + u \\cdot \\nabla u + g \\nabla \\eta - \\nu \\nabla^2 u &= 0, \\\\\n",
    "    \\partial_t \\eta + \\nabla \\cdot ((\\eta + \\eta) u) &= 0.\n",
    "\\end{align*}\n",
    "\n",
    "For our paper simulation study -- and thus, also in this notebook -- we are looking at analysing the results of running statFEM for the SWE, with different viscosity parameters $\\nu$, topographies $H$, and observation intervals. We will mainly analyse outputs in terms of the relative RMSE:\n",
    "\n",
    "\\begin{equation*}\n",
    "    \\mathrm{RMSE} = \\frac{\\Vert y_m - H(u_m, h_m)\\Vert}{\\Vert y_m \\Vert},\n",
    "\\end{equation*}\n",
    "\n",
    "and also the (negative) log-likelihoods for a probabilistic metric for comparison."
   ]
  },
  {
   "cell_type": "markdown",
   "id": "7086f315-a954-40ba-a58d-b84a2a3701ce",
   "metadata": {
    "jp-MarkdownHeadingCollapsed": true,
    "tags": []
   },
   "source": [
    "## Initialising data and getting things set up\n",
    "\n",
    "Here we first define some helper functions and the like, to be used later on. We also import libraries and some definitions for the figure sizes:"
   ]
  },
  {
   "cell_type": "code",
   "execution_count": 1,
   "id": "fb205746-3cdd-4dbe-a6f8-0234c62bdc5c",
   "metadata": {},
   "outputs": [],
   "source": [
    "import h5py\n",
    "\n",
    "import numpy as np\n",
    "import matplotlib.pyplot as plt\n",
    "import pandas as pd\n",
    "import xarray as xr\n",
    "\n",
    "from tabulate import tabulate\n",
    "\n",
    "import sys\n",
    "sys.path.insert(0, \"../scripts\")\n",
    "from figures import figure_sizes\n",
    "\n",
    "def errors_from_output_file(output_file, prior=False):\n",
    "    \"\"\" Read in errors from output file. \"\"\"\n",
    "    checkpoint = h5py.File(output_file, \"r\")\n",
    "    nu = checkpoint[\"/\"].attrs[\"nu\"]\n",
    "    c = checkpoint[\"/\"].attrs[\"c\"]\n",
    "    nt_skip = checkpoint[\"/\"].attrs[\"nt_skip\"]\n",
    "    k = checkpoint[\"/\"].attrs[\"k\"]\n",
    "    linear = checkpoint[\"/\"].attrs[\"linear\"]\n",
    "    \n",
    "    # just verify we are doing the correct thing\n",
    "    assert checkpoint[\"/\"].attrs[\"rho_h\"] == 1e-2 \n",
    "    t_obs = checkpoint[\"/t_obs\"][:]\n",
    "    rmse = checkpoint[\"/rmse\"][:]\n",
    "    rmse_rel = checkpoint[\"/rmse_rel\"][:]\n",
    "    \n",
    "    # common coordinates across all\n",
    "    coords=dict(t=t_obs,\n",
    "                nu=np.array([nu]),\n",
    "                c=np.array([c]),\n",
    "                nt_skip=np.array([nt_skip]))\n",
    "    \n",
    "    rmse_ds = xr.DataArray(data=rmse[:, np.newaxis, np.newaxis, np.newaxis],\n",
    "                           coords=coords,\n",
    "                           name=\"rmse\")\n",
    "    rmse_rel_ds = xr.DataArray(data=rmse_rel[:, np.newaxis, np.newaxis, np.newaxis],\n",
    "                               coords=coords,\n",
    "                               name=\"rmse_rel\")\n",
    "    if not prior:\n",
    "        lml = checkpoint[\"/lml\"][:]\n",
    "        checkpoint.close()\n",
    "        \n",
    "        lml_ds = xr.DataArray(data=lml[:, np.newaxis, np.newaxis, np.newaxis],\n",
    "                              coords=coords,\n",
    "                              name=\"lml\")\n",
    "        return (nu, nt_skip), xr.merge([rmse_ds, rmse_rel_ds, lml_ds])\n",
    "    else:\n",
    "        checkpoint.close()\n",
    "        return (nu, nt_skip), xr.merge([rmse_ds, rmse_rel_ds])"
   ]
  },
  {
   "cell_type": "markdown",
   "id": "99bfaca8-e811-4da3-9b62-4653cf64f213",
   "metadata": {},
   "source": [
    "First we load in the posterior model outputs and see what they look like:"
   ]
  },
  {
   "cell_type": "code",
   "execution_count": 2,
   "id": "30e194d5-5f18-471f-91ba-ad5aa77e761d",
   "metadata": {},
   "outputs": [
    {
     "ename": "KeyboardInterrupt",
     "evalue": "",
     "output_type": "error",
     "traceback": [
      "\u001b[0;31m---------------------------------------------------------------------------\u001b[0m",
      "\u001b[0;31mKeyboardInterrupt\u001b[0m                         Traceback (most recent call last)",
      "Input \u001b[0;32mIn [2]\u001b[0m, in \u001b[0;36m<cell line: 11>\u001b[0;34m()\u001b[0m\n\u001b[1;32m      8\u001b[0m     _, e \u001b[38;5;241m=\u001b[39m errors_from_output_file(output_file)\n\u001b[1;32m      9\u001b[0m     errors_ds\u001b[38;5;241m.\u001b[39mappend(e)\n\u001b[0;32m---> 11\u001b[0m errors_nonlinear \u001b[38;5;241m=\u001b[39m \u001b[43mxr\u001b[49m\u001b[38;5;241;43m.\u001b[39;49m\u001b[43mmerge\u001b[49m\u001b[43m(\u001b[49m\u001b[43merrors_ds\u001b[49m\u001b[43m)\u001b[49m\n\u001b[1;32m     12\u001b[0m errors_nonlinear\n",
      "File \u001b[0;32m~/miniconda3/envs/swfe/lib/python3.10/site-packages/xarray/core/merge.py:1025\u001b[0m, in \u001b[0;36mmerge\u001b[0;34m(objects, compat, join, fill_value, combine_attrs)\u001b[0m\n\u001b[1;32m   1022\u001b[0m     obj \u001b[38;5;241m=\u001b[39m obj\u001b[38;5;241m.\u001b[39mto_dataset(promote_attrs\u001b[38;5;241m=\u001b[39m\u001b[38;5;28;01mTrue\u001b[39;00m) \u001b[38;5;28;01mif\u001b[39;00m \u001b[38;5;28misinstance\u001b[39m(obj, DataArray) \u001b[38;5;28;01melse\u001b[39;00m obj\n\u001b[1;32m   1023\u001b[0m     dict_like_objects\u001b[38;5;241m.\u001b[39mappend(obj)\n\u001b[0;32m-> 1025\u001b[0m merge_result \u001b[38;5;241m=\u001b[39m \u001b[43mmerge_core\u001b[49m\u001b[43m(\u001b[49m\n\u001b[1;32m   1026\u001b[0m \u001b[43m    \u001b[49m\u001b[43mdict_like_objects\u001b[49m\u001b[43m,\u001b[49m\n\u001b[1;32m   1027\u001b[0m \u001b[43m    \u001b[49m\u001b[43mcompat\u001b[49m\u001b[43m,\u001b[49m\n\u001b[1;32m   1028\u001b[0m \u001b[43m    \u001b[49m\u001b[43mjoin\u001b[49m\u001b[43m,\u001b[49m\n\u001b[1;32m   1029\u001b[0m \u001b[43m    \u001b[49m\u001b[43mcombine_attrs\u001b[49m\u001b[38;5;241;43m=\u001b[39;49m\u001b[43mcombine_attrs\u001b[49m\u001b[43m,\u001b[49m\n\u001b[1;32m   1030\u001b[0m \u001b[43m    \u001b[49m\u001b[43mfill_value\u001b[49m\u001b[38;5;241;43m=\u001b[39;49m\u001b[43mfill_value\u001b[49m\u001b[43m,\u001b[49m\n\u001b[1;32m   1031\u001b[0m \u001b[43m\u001b[49m\u001b[43m)\u001b[49m\n\u001b[1;32m   1032\u001b[0m \u001b[38;5;28;01mreturn\u001b[39;00m Dataset\u001b[38;5;241m.\u001b[39m_construct_direct(\u001b[38;5;241m*\u001b[39m\u001b[38;5;241m*\u001b[39mmerge_result\u001b[38;5;241m.\u001b[39m_asdict())\n",
      "File \u001b[0;32m~/miniconda3/envs/swfe/lib/python3.10/site-packages/xarray/core/merge.py:752\u001b[0m, in \u001b[0;36mmerge_core\u001b[0;34m(objects, compat, join, combine_attrs, priority_arg, explicit_coords, indexes, fill_value)\u001b[0m\n\u001b[1;32m    749\u001b[0m _assert_compat_valid(compat)\n\u001b[1;32m    751\u001b[0m coerced \u001b[38;5;241m=\u001b[39m coerce_pandas_values(objects)\n\u001b[0;32m--> 752\u001b[0m aligned \u001b[38;5;241m=\u001b[39m \u001b[43mdeep_align\u001b[49m\u001b[43m(\u001b[49m\n\u001b[1;32m    753\u001b[0m \u001b[43m    \u001b[49m\u001b[43mcoerced\u001b[49m\u001b[43m,\u001b[49m\u001b[43m \u001b[49m\u001b[43mjoin\u001b[49m\u001b[38;5;241;43m=\u001b[39;49m\u001b[43mjoin\u001b[49m\u001b[43m,\u001b[49m\u001b[43m \u001b[49m\u001b[43mcopy\u001b[49m\u001b[38;5;241;43m=\u001b[39;49m\u001b[38;5;28;43;01mFalse\u001b[39;49;00m\u001b[43m,\u001b[49m\u001b[43m \u001b[49m\u001b[43mindexes\u001b[49m\u001b[38;5;241;43m=\u001b[39;49m\u001b[43mindexes\u001b[49m\u001b[43m,\u001b[49m\u001b[43m \u001b[49m\u001b[43mfill_value\u001b[49m\u001b[38;5;241;43m=\u001b[39;49m\u001b[43mfill_value\u001b[49m\n\u001b[1;32m    754\u001b[0m \u001b[43m\u001b[49m\u001b[43m)\u001b[49m\n\u001b[1;32m    755\u001b[0m collected \u001b[38;5;241m=\u001b[39m collect_variables_and_indexes(aligned, indexes\u001b[38;5;241m=\u001b[39mindexes)\n\u001b[1;32m    756\u001b[0m prioritized \u001b[38;5;241m=\u001b[39m _get_priority_vars_and_indexes(aligned, priority_arg, compat\u001b[38;5;241m=\u001b[39mcompat)\n",
      "File \u001b[0;32m~/miniconda3/envs/swfe/lib/python3.10/site-packages/xarray/core/alignment.py:827\u001b[0m, in \u001b[0;36mdeep_align\u001b[0;34m(objects, join, copy, indexes, exclude, raise_on_invalid, fill_value)\u001b[0m\n\u001b[1;32m    824\u001b[0m     \u001b[38;5;28;01melse\u001b[39;00m:\n\u001b[1;32m    825\u001b[0m         out\u001b[38;5;241m.\u001b[39mappend(variables)\n\u001b[0;32m--> 827\u001b[0m aligned \u001b[38;5;241m=\u001b[39m \u001b[43malign\u001b[49m\u001b[43m(\u001b[49m\n\u001b[1;32m    828\u001b[0m \u001b[43m    \u001b[49m\u001b[38;5;241;43m*\u001b[39;49m\u001b[43mtargets\u001b[49m\u001b[43m,\u001b[49m\n\u001b[1;32m    829\u001b[0m \u001b[43m    \u001b[49m\u001b[43mjoin\u001b[49m\u001b[38;5;241;43m=\u001b[39;49m\u001b[43mjoin\u001b[49m\u001b[43m,\u001b[49m\n\u001b[1;32m    830\u001b[0m \u001b[43m    \u001b[49m\u001b[43mcopy\u001b[49m\u001b[38;5;241;43m=\u001b[39;49m\u001b[43mcopy\u001b[49m\u001b[43m,\u001b[49m\n\u001b[1;32m    831\u001b[0m \u001b[43m    \u001b[49m\u001b[43mindexes\u001b[49m\u001b[38;5;241;43m=\u001b[39;49m\u001b[43mindexes\u001b[49m\u001b[43m,\u001b[49m\n\u001b[1;32m    832\u001b[0m \u001b[43m    \u001b[49m\u001b[43mexclude\u001b[49m\u001b[38;5;241;43m=\u001b[39;49m\u001b[43mexclude\u001b[49m\u001b[43m,\u001b[49m\n\u001b[1;32m    833\u001b[0m \u001b[43m    \u001b[49m\u001b[43mfill_value\u001b[49m\u001b[38;5;241;43m=\u001b[39;49m\u001b[43mfill_value\u001b[49m\u001b[43m,\u001b[49m\n\u001b[1;32m    834\u001b[0m \u001b[43m\u001b[49m\u001b[43m)\u001b[49m\n\u001b[1;32m    836\u001b[0m \u001b[38;5;28;01mfor\u001b[39;00m position, key, aligned_obj \u001b[38;5;129;01min\u001b[39;00m \u001b[38;5;28mzip\u001b[39m(positions, keys, aligned):\n\u001b[1;32m    837\u001b[0m     \u001b[38;5;28;01mif\u001b[39;00m key \u001b[38;5;129;01mis\u001b[39;00m no_key:\n",
      "File \u001b[0;32m~/miniconda3/envs/swfe/lib/python3.10/site-packages/xarray/core/alignment.py:764\u001b[0m, in \u001b[0;36malign\u001b[0;34m(join, copy, indexes, exclude, fill_value, *objects)\u001b[0m\n\u001b[1;32m    568\u001b[0m \u001b[38;5;124;03m\"\"\"\u001b[39;00m\n\u001b[1;32m    569\u001b[0m \u001b[38;5;124;03mGiven any number of Dataset and/or DataArray objects, returns new\u001b[39;00m\n\u001b[1;32m    570\u001b[0m \u001b[38;5;124;03mobjects with aligned indexes and dimension sizes.\u001b[39;00m\n\u001b[0;32m   (...)\u001b[0m\n\u001b[1;32m    754\u001b[0m \n\u001b[1;32m    755\u001b[0m \u001b[38;5;124;03m\"\"\"\u001b[39;00m\n\u001b[1;32m    756\u001b[0m aligner \u001b[38;5;241m=\u001b[39m Aligner(\n\u001b[1;32m    757\u001b[0m     objects,\n\u001b[1;32m    758\u001b[0m     join\u001b[38;5;241m=\u001b[39mjoin,\n\u001b[0;32m   (...)\u001b[0m\n\u001b[1;32m    762\u001b[0m     fill_value\u001b[38;5;241m=\u001b[39mfill_value,\n\u001b[1;32m    763\u001b[0m )\n\u001b[0;32m--> 764\u001b[0m \u001b[43maligner\u001b[49m\u001b[38;5;241;43m.\u001b[39;49m\u001b[43malign\u001b[49m\u001b[43m(\u001b[49m\u001b[43m)\u001b[49m\n\u001b[1;32m    765\u001b[0m \u001b[38;5;28;01mreturn\u001b[39;00m aligner\u001b[38;5;241m.\u001b[39mresults\n",
      "File \u001b[0;32m~/miniconda3/envs/swfe/lib/python3.10/site-packages/xarray/core/alignment.py:557\u001b[0m, in \u001b[0;36mAligner.align\u001b[0;34m(self)\u001b[0m\n\u001b[1;32m    555\u001b[0m     \u001b[38;5;28mself\u001b[39m\u001b[38;5;241m.\u001b[39moverride_indexes()\n\u001b[1;32m    556\u001b[0m \u001b[38;5;28;01melse\u001b[39;00m:\n\u001b[0;32m--> 557\u001b[0m     \u001b[38;5;28;43mself\u001b[39;49m\u001b[38;5;241;43m.\u001b[39;49m\u001b[43mreindex_all\u001b[49m\u001b[43m(\u001b[49m\u001b[43m)\u001b[49m\n",
      "File \u001b[0;32m~/miniconda3/envs/swfe/lib/python3.10/site-packages/xarray/core/alignment.py:535\u001b[0m, in \u001b[0;36mAligner.reindex_all\u001b[0;34m(self)\u001b[0m\n\u001b[1;32m    534\u001b[0m \u001b[38;5;28;01mdef\u001b[39;00m \u001b[38;5;21mreindex_all\u001b[39m(\u001b[38;5;28mself\u001b[39m) \u001b[38;5;241m-\u001b[39m\u001b[38;5;241m>\u001b[39m \u001b[38;5;28;01mNone\u001b[39;00m:\n\u001b[0;32m--> 535\u001b[0m     \u001b[38;5;28mself\u001b[39m\u001b[38;5;241m.\u001b[39mresults \u001b[38;5;241m=\u001b[39m \u001b[38;5;28;43mtuple\u001b[39;49m\u001b[43m(\u001b[49m\n\u001b[1;32m    536\u001b[0m \u001b[43m        \u001b[49m\u001b[38;5;28;43mself\u001b[39;49m\u001b[38;5;241;43m.\u001b[39;49m\u001b[43m_reindex_one\u001b[49m\u001b[43m(\u001b[49m\u001b[43mobj\u001b[49m\u001b[43m,\u001b[49m\u001b[43m \u001b[49m\u001b[43mmatching_indexes\u001b[49m\u001b[43m)\u001b[49m\n\u001b[1;32m    537\u001b[0m \u001b[43m        \u001b[49m\u001b[38;5;28;43;01mfor\u001b[39;49;00m\u001b[43m \u001b[49m\u001b[43mobj\u001b[49m\u001b[43m,\u001b[49m\u001b[43m \u001b[49m\u001b[43mmatching_indexes\u001b[49m\u001b[43m \u001b[49m\u001b[38;5;129;43;01min\u001b[39;49;00m\u001b[43m \u001b[49m\u001b[38;5;28;43mzip\u001b[39;49m\u001b[43m(\u001b[49m\n\u001b[1;32m    538\u001b[0m \u001b[43m            \u001b[49m\u001b[38;5;28;43mself\u001b[39;49m\u001b[38;5;241;43m.\u001b[39;49m\u001b[43mobjects\u001b[49m\u001b[43m,\u001b[49m\u001b[43m \u001b[49m\u001b[38;5;28;43mself\u001b[39;49m\u001b[38;5;241;43m.\u001b[39;49m\u001b[43mobjects_matching_indexes\u001b[49m\n\u001b[1;32m    539\u001b[0m \u001b[43m        \u001b[49m\u001b[43m)\u001b[49m\n\u001b[1;32m    540\u001b[0m \u001b[43m    \u001b[49m\u001b[43m)\u001b[49m\n",
      "File \u001b[0;32m~/miniconda3/envs/swfe/lib/python3.10/site-packages/xarray/core/alignment.py:536\u001b[0m, in \u001b[0;36m<genexpr>\u001b[0;34m(.0)\u001b[0m\n\u001b[1;32m    534\u001b[0m \u001b[38;5;28;01mdef\u001b[39;00m \u001b[38;5;21mreindex_all\u001b[39m(\u001b[38;5;28mself\u001b[39m) \u001b[38;5;241m-\u001b[39m\u001b[38;5;241m>\u001b[39m \u001b[38;5;28;01mNone\u001b[39;00m:\n\u001b[1;32m    535\u001b[0m     \u001b[38;5;28mself\u001b[39m\u001b[38;5;241m.\u001b[39mresults \u001b[38;5;241m=\u001b[39m \u001b[38;5;28mtuple\u001b[39m(\n\u001b[0;32m--> 536\u001b[0m         \u001b[38;5;28;43mself\u001b[39;49m\u001b[38;5;241;43m.\u001b[39;49m\u001b[43m_reindex_one\u001b[49m\u001b[43m(\u001b[49m\u001b[43mobj\u001b[49m\u001b[43m,\u001b[49m\u001b[43m \u001b[49m\u001b[43mmatching_indexes\u001b[49m\u001b[43m)\u001b[49m\n\u001b[1;32m    537\u001b[0m         \u001b[38;5;28;01mfor\u001b[39;00m obj, matching_indexes \u001b[38;5;129;01min\u001b[39;00m \u001b[38;5;28mzip\u001b[39m(\n\u001b[1;32m    538\u001b[0m             \u001b[38;5;28mself\u001b[39m\u001b[38;5;241m.\u001b[39mobjects, \u001b[38;5;28mself\u001b[39m\u001b[38;5;241m.\u001b[39mobjects_matching_indexes\n\u001b[1;32m    539\u001b[0m         )\n\u001b[1;32m    540\u001b[0m     )\n",
      "File \u001b[0;32m~/miniconda3/envs/swfe/lib/python3.10/site-packages/xarray/core/alignment.py:522\u001b[0m, in \u001b[0;36mAligner._reindex_one\u001b[0;34m(self, obj, matching_indexes)\u001b[0m\n\u001b[1;32m    519\u001b[0m new_indexes, new_variables \u001b[38;5;241m=\u001b[39m \u001b[38;5;28mself\u001b[39m\u001b[38;5;241m.\u001b[39m_get_indexes_and_vars(obj, matching_indexes)\n\u001b[1;32m    520\u001b[0m dim_pos_indexers \u001b[38;5;241m=\u001b[39m \u001b[38;5;28mself\u001b[39m\u001b[38;5;241m.\u001b[39m_get_dim_pos_indexers(matching_indexes)\n\u001b[0;32m--> 522\u001b[0m new_obj \u001b[38;5;241m=\u001b[39m \u001b[43mobj\u001b[49m\u001b[38;5;241;43m.\u001b[39;49m\u001b[43m_reindex_callback\u001b[49m\u001b[43m(\u001b[49m\n\u001b[1;32m    523\u001b[0m \u001b[43m    \u001b[49m\u001b[38;5;28;43mself\u001b[39;49m\u001b[43m,\u001b[49m\n\u001b[1;32m    524\u001b[0m \u001b[43m    \u001b[49m\u001b[43mdim_pos_indexers\u001b[49m\u001b[43m,\u001b[49m\n\u001b[1;32m    525\u001b[0m \u001b[43m    \u001b[49m\u001b[43mnew_variables\u001b[49m\u001b[43m,\u001b[49m\n\u001b[1;32m    526\u001b[0m \u001b[43m    \u001b[49m\u001b[43mnew_indexes\u001b[49m\u001b[43m,\u001b[49m\n\u001b[1;32m    527\u001b[0m \u001b[43m    \u001b[49m\u001b[38;5;28;43mself\u001b[39;49m\u001b[38;5;241;43m.\u001b[39;49m\u001b[43mfill_value\u001b[49m\u001b[43m,\u001b[49m\n\u001b[1;32m    528\u001b[0m \u001b[43m    \u001b[49m\u001b[38;5;28;43mself\u001b[39;49m\u001b[38;5;241;43m.\u001b[39;49m\u001b[43mexclude_dims\u001b[49m\u001b[43m,\u001b[49m\n\u001b[1;32m    529\u001b[0m \u001b[43m    \u001b[49m\u001b[38;5;28;43mself\u001b[39;49m\u001b[38;5;241;43m.\u001b[39;49m\u001b[43mexclude_vars\u001b[49m\u001b[43m,\u001b[49m\n\u001b[1;32m    530\u001b[0m \u001b[43m\u001b[49m\u001b[43m)\u001b[49m\n\u001b[1;32m    531\u001b[0m new_obj\u001b[38;5;241m.\u001b[39mencoding \u001b[38;5;241m=\u001b[39m obj\u001b[38;5;241m.\u001b[39mencoding\n\u001b[1;32m    532\u001b[0m \u001b[38;5;28;01mreturn\u001b[39;00m new_obj\n",
      "File \u001b[0;32m~/miniconda3/envs/swfe/lib/python3.10/site-packages/xarray/core/dataset.py:2808\u001b[0m, in \u001b[0;36mDataset._reindex_callback\u001b[0;34m(self, aligner, dim_pos_indexers, variables, indexes, fill_value, exclude_dims, exclude_vars)\u001b[0m\n\u001b[1;32m   2802\u001b[0m \u001b[38;5;28;01melse\u001b[39;00m:\n\u001b[1;32m   2803\u001b[0m     to_reindex \u001b[38;5;241m=\u001b[39m {\n\u001b[1;32m   2804\u001b[0m         k: v\n\u001b[1;32m   2805\u001b[0m         \u001b[38;5;28;01mfor\u001b[39;00m k, v \u001b[38;5;129;01min\u001b[39;00m \u001b[38;5;28mself\u001b[39m\u001b[38;5;241m.\u001b[39mvariables\u001b[38;5;241m.\u001b[39mitems()\n\u001b[1;32m   2806\u001b[0m         \u001b[38;5;28;01mif\u001b[39;00m k \u001b[38;5;129;01mnot\u001b[39;00m \u001b[38;5;129;01min\u001b[39;00m variables \u001b[38;5;129;01mand\u001b[39;00m k \u001b[38;5;129;01mnot\u001b[39;00m \u001b[38;5;129;01min\u001b[39;00m exclude_vars\n\u001b[1;32m   2807\u001b[0m     }\n\u001b[0;32m-> 2808\u001b[0m     reindexed_vars \u001b[38;5;241m=\u001b[39m \u001b[43malignment\u001b[49m\u001b[38;5;241;43m.\u001b[39;49m\u001b[43mreindex_variables\u001b[49m\u001b[43m(\u001b[49m\n\u001b[1;32m   2809\u001b[0m \u001b[43m        \u001b[49m\u001b[43mto_reindex\u001b[49m\u001b[43m,\u001b[49m\n\u001b[1;32m   2810\u001b[0m \u001b[43m        \u001b[49m\u001b[43mdim_pos_indexers\u001b[49m\u001b[43m,\u001b[49m\n\u001b[1;32m   2811\u001b[0m \u001b[43m        \u001b[49m\u001b[43mcopy\u001b[49m\u001b[38;5;241;43m=\u001b[39;49m\u001b[43maligner\u001b[49m\u001b[38;5;241;43m.\u001b[39;49m\u001b[43mcopy\u001b[49m\u001b[43m,\u001b[49m\n\u001b[1;32m   2812\u001b[0m \u001b[43m        \u001b[49m\u001b[43mfill_value\u001b[49m\u001b[38;5;241;43m=\u001b[39;49m\u001b[43mfill_value\u001b[49m\u001b[43m,\u001b[49m\n\u001b[1;32m   2813\u001b[0m \u001b[43m        \u001b[49m\u001b[43msparse\u001b[49m\u001b[38;5;241;43m=\u001b[39;49m\u001b[43maligner\u001b[49m\u001b[38;5;241;43m.\u001b[39;49m\u001b[43msparse\u001b[49m\u001b[43m,\u001b[49m\n\u001b[1;32m   2814\u001b[0m \u001b[43m    \u001b[49m\u001b[43m)\u001b[49m\n\u001b[1;32m   2815\u001b[0m     new_variables\u001b[38;5;241m.\u001b[39mupdate(reindexed_vars)\n\u001b[1;32m   2816\u001b[0m     new_coord_names \u001b[38;5;241m=\u001b[39m \u001b[38;5;28mself\u001b[39m\u001b[38;5;241m.\u001b[39m_coord_names \u001b[38;5;241m|\u001b[39m \u001b[38;5;28mset\u001b[39m(new_indexes)\n",
      "File \u001b[0;32m~/miniconda3/envs/swfe/lib/python3.10/site-packages/xarray/core/alignment.py:80\u001b[0m, in \u001b[0;36mreindex_variables\u001b[0;34m(variables, dim_pos_indexers, copy, fill_value, sparse)\u001b[0m\n\u001b[1;32m     77\u001b[0m needs_masking \u001b[38;5;241m=\u001b[39m \u001b[38;5;28many\u001b[39m(d \u001b[38;5;129;01min\u001b[39;00m masked_dims \u001b[38;5;28;01mfor\u001b[39;00m d \u001b[38;5;129;01min\u001b[39;00m var\u001b[38;5;241m.\u001b[39mdims)\n\u001b[1;32m     79\u001b[0m \u001b[38;5;28;01mif\u001b[39;00m needs_masking:\n\u001b[0;32m---> 80\u001b[0m     new_var \u001b[38;5;241m=\u001b[39m \u001b[43mvar\u001b[49m\u001b[38;5;241;43m.\u001b[39;49m\u001b[43m_getitem_with_mask\u001b[49m\u001b[43m(\u001b[49m\u001b[43mindxr\u001b[49m\u001b[43m,\u001b[49m\u001b[43m \u001b[49m\u001b[43mfill_value\u001b[49m\u001b[38;5;241;43m=\u001b[39;49m\u001b[43mfill_value_\u001b[49m\u001b[43m)\u001b[49m\n\u001b[1;32m     81\u001b[0m \u001b[38;5;28;01melif\u001b[39;00m \u001b[38;5;28mall\u001b[39m(is_full_slice(k) \u001b[38;5;28;01mfor\u001b[39;00m k \u001b[38;5;129;01min\u001b[39;00m indxr):\n\u001b[1;32m     82\u001b[0m     \u001b[38;5;66;03m# no reindexing necessary\u001b[39;00m\n\u001b[1;32m     83\u001b[0m     \u001b[38;5;66;03m# here we need to manually deal with copying data, since\u001b[39;00m\n\u001b[1;32m     84\u001b[0m     \u001b[38;5;66;03m# we neither created a new ndarray nor used fancy indexing\u001b[39;00m\n\u001b[1;32m     85\u001b[0m     new_var \u001b[38;5;241m=\u001b[39m var\u001b[38;5;241m.\u001b[39mcopy(deep\u001b[38;5;241m=\u001b[39mcopy)\n",
      "File \u001b[0;32m~/miniconda3/envs/swfe/lib/python3.10/site-packages/xarray/core/variable.py:851\u001b[0m, in \u001b[0;36mVariable._getitem_with_mask\u001b[0;34m(self, key, fill_value)\u001b[0m\n\u001b[1;32m    848\u001b[0m     actual_indexer \u001b[38;5;241m=\u001b[39m indexer\n\u001b[1;32m    850\u001b[0m data \u001b[38;5;241m=\u001b[39m as_indexable(\u001b[38;5;28mself\u001b[39m\u001b[38;5;241m.\u001b[39m_data)[actual_indexer]\n\u001b[0;32m--> 851\u001b[0m mask \u001b[38;5;241m=\u001b[39m indexing\u001b[38;5;241m.\u001b[39mcreate_mask(indexer, \u001b[38;5;28;43mself\u001b[39;49m\u001b[38;5;241;43m.\u001b[39;49m\u001b[43mshape\u001b[49m, data)\n\u001b[1;32m    852\u001b[0m \u001b[38;5;66;03m# we need to invert the mask in order to pass data first. This helps\u001b[39;00m\n\u001b[1;32m    853\u001b[0m \u001b[38;5;66;03m# pint to choose the correct unit\u001b[39;00m\n\u001b[1;32m    854\u001b[0m \u001b[38;5;66;03m# TODO: revert after https://github.com/hgrecco/pint/issues/1019 is fixed\u001b[39;00m\n\u001b[1;32m    855\u001b[0m data \u001b[38;5;241m=\u001b[39m duck_array_ops\u001b[38;5;241m.\u001b[39mwhere(np\u001b[38;5;241m.\u001b[39mlogical_not(mask), data, fill_value)\n",
      "File \u001b[0;32m~/miniconda3/envs/swfe/lib/python3.10/site-packages/xarray/core/variable.py:337\u001b[0m, in \u001b[0;36mVariable.shape\u001b[0;34m(self)\u001b[0m\n\u001b[1;32m    327\u001b[0m     \u001b[38;5;124;03m\"\"\"\u001b[39;00m\n\u001b[1;32m    328\u001b[0m \u001b[38;5;124;03m    Data-type of the array’s elements.\u001b[39;00m\n\u001b[1;32m    329\u001b[0m \n\u001b[0;32m   (...)\u001b[0m\n\u001b[1;32m    333\u001b[0m \u001b[38;5;124;03m    numpy.dtype\u001b[39;00m\n\u001b[1;32m    334\u001b[0m \u001b[38;5;124;03m    \"\"\"\u001b[39;00m\n\u001b[1;32m    335\u001b[0m     \u001b[38;5;28;01mreturn\u001b[39;00m \u001b[38;5;28mself\u001b[39m\u001b[38;5;241m.\u001b[39m_data\u001b[38;5;241m.\u001b[39mdtype\n\u001b[0;32m--> 337\u001b[0m \u001b[38;5;129m@property\u001b[39m\n\u001b[1;32m    338\u001b[0m \u001b[38;5;28;01mdef\u001b[39;00m \u001b[38;5;21mshape\u001b[39m(\u001b[38;5;28mself\u001b[39m):\n\u001b[1;32m    339\u001b[0m     \u001b[38;5;124;03m\"\"\"\u001b[39;00m\n\u001b[1;32m    340\u001b[0m \u001b[38;5;124;03m    Tuple of array dimensions.\u001b[39;00m\n\u001b[1;32m    341\u001b[0m \n\u001b[0;32m   (...)\u001b[0m\n\u001b[1;32m    344\u001b[0m \u001b[38;5;124;03m    numpy.ndarray.shape\u001b[39;00m\n\u001b[1;32m    345\u001b[0m \u001b[38;5;124;03m    \"\"\"\u001b[39;00m\n\u001b[1;32m    346\u001b[0m     \u001b[38;5;28;01mreturn\u001b[39;00m \u001b[38;5;28mself\u001b[39m\u001b[38;5;241m.\u001b[39m_data\u001b[38;5;241m.\u001b[39mshape\n",
      "\u001b[0;31mKeyboardInterrupt\u001b[0m: "
     ]
    }
   ],
   "source": [
    "from glob import glob\n",
    "\n",
    "output_files = glob(\n",
    "    \"../outputs/swe-bump/*-posterior-c-*-nt_skip-*.h5\")\n",
    "\n",
    "errors_ds = []\n",
    "for output_file in output_files:\n",
    "    _, e = errors_from_output_file(output_file)\n",
    "    errors_ds.append(e)\n",
    "\n",
    "errors_nonlinear = xr.merge(errors_ds)\n",
    "errors_nonlinear"
   ]
  },
  {
   "cell_type": "markdown",
   "id": "b1e0a191-834b-4008-862f-1add4a2584c3",
   "metadata": {},
   "source": [
    "Next, we load in the prior model outputs, for `nt_skip = 100`, and check that they look OK:"
   ]
  },
  {
   "cell_type": "code",
   "execution_count": null,
   "id": "f717ebed-17bb-449d-8876-8153ea1af144",
   "metadata": {},
   "outputs": [],
   "source": [
    "output_files_prior = glob(\n",
    "    \"../outputs/swe-bump/*-prior-c-*-nt_skip-100-*.h5\")\n",
    "\n",
    "errors_ds = []\n",
    "for output_file in output_files_prior:\n",
    "    _, e = errors_from_output_file(output_file, prior=True)\n",
    "    errors_ds.append(e)\n",
    "\n",
    "errors_prior = xr.merge(errors_ds)\n",
    "errors_prior"
   ]
  },
  {
   "cell_type": "markdown",
   "id": "9a6def51-0596-4228-b1d4-652194482bbd",
   "metadata": {},
   "source": [
    "Now we filter the output information to that which we are actually interested."
   ]
  },
  {
   "cell_type": "code",
   "execution_count": null,
   "id": "2a08299f-d2c6-42a5-8c7e-342813cb45f8",
   "metadata": {},
   "outputs": [],
   "source": [
    "c_subset = [0, 2, 5, 6]\n",
    "errors_prior = errors_prior.isel(c=c_subset)\n",
    "errors_nonlinear = errors_nonlinear.isel(c=c_subset)"
   ]
  },
  {
   "cell_type": "markdown",
   "id": "f03055cb-d06c-4f67-9d8d-c20f7975a926",
   "metadata": {
    "tags": []
   },
   "source": [
    "## Paper plots: checking performance across observation intervals\n",
    "\n",
    "First we plot the results across the different observation intervals to see how things stack up across time. We first look at the relative errors across time, for different values of `nt_skip`, for the true value of $c$:"
   ]
  },
  {
   "cell_type": "code",
   "execution_count": null,
   "id": "c0f6e626-3148-421c-bae9-696412c887cc",
   "metadata": {},
   "outputs": [],
   "source": [
    "assert errors_nonlinear.coords[\"c\"][1] == 10.\n",
    "\n",
    "nus =  errors_nonlinear.coords[\"nu\"].to_numpy()\n",
    "labels = [\n",
    "    fr\"$\\nu = ${nu:.1e}\" if nu > 0 else \"Linear\" for nu in nus\n",
    "]\n",
    "\n",
    "p = errors_nonlinear.rmse_rel.isel(c=1, nu=slice(0, 6)).interpolate_na(dim=\"t\").plot(\n",
    "    hue=\"nt_skip\", col=\"nu\", col_wrap=3,\n",
    "    figsize=(figure_sizes[\"fullwidth\"], 0.6 * figure_sizes[\"fullwidth\"]),\n",
    "    sharex=True, sharey=\"row\")\n",
    "\n",
    "# figure customization\n",
    "p.figlegend.set_title(r\"$k$\")\n",
    "for i, ax in enumerate(p.axes.flat):\n",
    "    ax.set_title(labels[i])\n",
    "\n",
    "for ax in p.axes[1, :]:\n",
    "    ax.set_xlabel(r\"$t$\")\n",
    "\n",
    "for ax in p.axes[:, 0]:\n",
    "    ax.set_ylabel(\"RRMSE\") \n",
    "    \n",
    "plt.savefig(\"../figures/swe-bump-paper/nt-skip-nu-grid.pdf\", dpi=600)"
   ]
  },
  {
   "cell_type": "markdown",
   "id": "739acd3e-8a6f-4a52-bafd-9009360893ea",
   "metadata": {},
   "source": [
    "And, again, for the relative errors for different $c$ values for the linear model:"
   ]
  },
  {
   "cell_type": "code",
   "execution_count": null,
   "id": "f952e49c-9594-4e70-a06f-7f4c5e1b86f3",
   "metadata": {},
   "outputs": [],
   "source": [
    "p = errors_nonlinear.rmse_rel.isel(nu=1).interpolate_na(dim=\"t\").plot(\n",
    "    hue=\"nt_skip\", col=\"c\", col_wrap=4,\n",
    "    figsize=(figure_sizes[\"fullwidth\"], 0.28 * figure_sizes[\"fullwidth\"]),\n",
    "    sharey=True)\n",
    "\n",
    "# figure customization\n",
    "# p.figlegend.set_title(r\"$k$\")\n",
    "p.figlegend.remove()\n",
    "\n",
    "cs =  errors_nonlinear.coords[\"c\"].to_numpy()\n",
    "labels = [fr\"$c = {c:.0f}$\" for c in cs]\n",
    "for i, ax in enumerate(p.axes.flat):\n",
    "    ax.set_title(labels[i])\n",
    "\n",
    "for ax in p.axes.flat:\n",
    "    ax.set_xlabel(r\"$t$\")\n",
    "\n",
    "p.axes[0, 0].set_ylabel(\"RRMSE\") \n",
    "plt.savefig(\"../figures/swe-bump-paper/nt-skip-c-grid.pdf\", dpi=600)"
   ]
  },
  {
   "cell_type": "code",
   "execution_count": null,
   "id": "99607d4e-365e-4341-9c1a-69c8c21a2fb4",
   "metadata": {},
   "outputs": [],
   "source": [
    "errors_nonlinear.rmse_rel.isel(nu=1).interpolate_na(dim=\"t\").plot(\n",
    "    hue=\"nt_skip\", col=\"c\", sharey=True)\n",
    "plt.show()"
   ]
  },
  {
   "cell_type": "markdown",
   "id": "170b8b8c-ea9a-4c8c-bf46-0c0fc79255cb",
   "metadata": {},
   "source": [
    "The results are decent across the the board with minor stratifications between the models across for different `nt_skip` values, but with greater stratification from changing parameter values. This leads to the conclusion that the different time-differences between observations does not drive the variation in model performance, in this scenario. We now tabulate these results, highlighting the results with the lowester RRMSE:"
   ]
  },
  {
   "cell_type": "code",
   "execution_count": null,
   "id": "4a6a6ffc-437a-404e-b578-b39a7a0a5ab6",
   "metadata": {},
   "outputs": [],
   "source": [
    "ave_rmse = errors_nonlinear.isel(c=1).mean(dim=\"t\", skipna=True).rmse_rel\n",
    "dat = ave_rmse.to_numpy().T\n",
    "\n",
    "from scipy.stats import f_oneway\n",
    "\n",
    "print(f_oneway(*[col for col in dat.T]))\n",
    "print(tabulate(dat,\n",
    "               ave_rmse.coords[\"nu\"].to_numpy(),\n",
    "               showindex=ave_rmse[\"nt_skip\"].to_numpy()))\n",
    "                 \n",
    "def format_col(col, exp=False):\n",
    "    min_loc = col.argmin()\n",
    "    out = col.astype(str)\n",
    "    \n",
    "    for i in range(len(col)):\n",
    "        if i == min_loc:\n",
    "            if exp:\n",
    "                out[i] = fr\"$\\mathbf{{{col[i]:.6e}}}$\"\n",
    "            else:\n",
    "                out[i] = fr\"$\\mathbf{{{col[i]:.6f}}}$\"\n",
    "        else:\n",
    "            if exp:\n",
    "                out[i] = fr\"${col[i]:.6e}$\"\n",
    "            else:\n",
    "                out[i] = fr\"${col[i]:.6f}$\"\n",
    "\n",
    "    return np.array(out)\n",
    "            \n",
    "dat_formatted = np.apply_along_axis(format_col, 0, dat)\n",
    "\n",
    "with open(\"../figures/swe-bump-paper/nt-skip-nu-table.tex\", \"w\") as f:\n",
    "    f.write(tabulate(dat_formatted,\n",
    "                     ave_rmse.coords[\"nu\"].to_numpy(),\n",
    "                     showindex=ave_rmse[\"nt_skip\"].to_numpy(),\n",
    "                     tablefmt=\"latex_raw\"))"
   ]
  },
  {
   "cell_type": "code",
   "execution_count": null,
   "id": "a1303e4d-8616-4e0a-88f1-cc9ee96ce981",
   "metadata": {},
   "outputs": [],
   "source": [
    "ave_rmse = errors_nonlinear.isel(nu=1).mean(dim=\"t\", skipna=True).rmse_rel\n",
    "\n",
    "dat = ave_rmse.to_numpy().T\n",
    "print(tabulate(dat, \n",
    "               ave_rmse.coords[\"c\"].to_numpy(),\n",
    "               showindex=ave_rmse[\"nt_skip\"].to_numpy()))\n",
    "\n",
    "print(f_oneway(*[col for col in dat.T]))\n",
    "dat_formatted = np.apply_along_axis(format_col, 0, dat)\n",
    "\n",
    "with open(\"../figures/swe-bump-paper/nt-skip-c-table.tex\", \"w\") as f:\n",
    "    f.write(tabulate(dat_formatted, \n",
    "                     ave_rmse.coords[\"c\"].to_numpy(),\n",
    "                     showindex=ave_rmse[\"nt_skip\"].to_numpy(),\n",
    "                     tablefmt=\"latex_raw\"))"
   ]
  },
  {
   "cell_type": "markdown",
   "id": "cac4f78e-2d96-46bd-b1d7-18a9555d3978",
   "metadata": {
    "jp-MarkdownHeadingCollapsed": true,
    "tags": []
   },
   "source": [
    "## Paper plots: checking performance for misspecified model parameters, with a fixed observation interval\n",
    "\n",
    "First we plot the RRMSE values across the grid of $\\nu$ and $c$ values, both a priori and a posteriori. Across different values this stratifies and results in reasonable results. As previous we see that at $\\nu = 1$ the dynamics seems to change and is much less amenable to being updated with data, due to the damping -- perhaps there is a dynamical bifurcation here?"
   ]
  },
  {
   "cell_type": "code",
   "execution_count": null,
   "id": "2074a834-135b-4854-824b-a1339b8dc534",
   "metadata": {},
   "outputs": [],
   "source": [
    "plt.rcParams['figure.constrained_layout.use'] = True\n",
    "\n",
    "errors_temp = xr.concat([errors_prior, errors_nonlinear], \n",
    "                        pd.Index([\"Prior\", \"Posterior\"], name=\"Model\"))\n",
    "\n",
    "p = errors_temp.rmse_rel.interpolate_na(dim=\"t\").isel(nt_skip=4, nu=slice(0, 5)).plot(\n",
    "    x=\"t\", col=\"nu\", row=\"Model\", hue=\"c\", \n",
    "    figsize=(1.5 * figure_sizes[\"fullwidth\"], 0.5 * figure_sizes[\"fullwidth\"]),\n",
    "    sharex=True, sharey=True)\n",
    "\n",
    "nus =  errors_temp.coords[\"nu\"].to_numpy()[slice(0, 5)]\n",
    "labels = [fr\"$\\nu =$ {nu:.1e}\" for nu in nus]\n",
    "labels[0] = \"Linear\"\n",
    "\n",
    "for i, ax in enumerate(p.axes[0, :]):\n",
    "    ax.set_title(labels[i])\n",
    "\n",
    "for ax in p.axes[1, :]:\n",
    "    ax.set_xlabel(r\"$t$\")\n",
    "    \n",
    "for ax in p.axes[:, 0]:\n",
    "    ax.set_ylabel(\"RRMSE\")\n",
    "    \n",
    "p.figlegend.set_title(\"$c$\")\n",
    "\n",
    "plt.savefig(\"../figures/swe-bump-paper/nu-c-rrmse-layout.pdf\", dpi=600)"
   ]
  },
  {
   "cell_type": "markdown",
   "id": "9be605f3-b948-405c-b826-068eee9ceb88",
   "metadata": {},
   "source": [
    "Now, we plot the results across the same grid, however this time we plot the log-marginal likelihoods:"
   ]
  },
  {
   "cell_type": "code",
   "execution_count": null,
   "id": "eeef2da7-8582-4137-a126-956f2258cd84",
   "metadata": {},
   "outputs": [],
   "source": [
    "p = (-errors_nonlinear.lml).interpolate_na(dim=\"t\").isel(nt_skip=4, nu=slice(0, 5)).plot(\n",
    "    x=\"t\", col=\"nu\", hue=\"c\", yscale=\"log\",\n",
    "    figsize=(1.5 * figure_sizes[\"fullwidth\"], 0.3 * figure_sizes[\"fullwidth\"]),\n",
    "    sharex=True, sharey=True)\n",
    "\n",
    "nus =  errors_temp.coords[\"nu\"].to_numpy()[slice(0, 5)]\n",
    "labels = [fr\"$\\nu =$ {nu:.1e}\" for nu in nus]\n",
    "labels[0] = \"Linear\"\n",
    "p.axes[0, 0].set_ylabel(r\"-$\\log p(\\mathbf{y}_{1:m})$\")\n",
    "\n",
    "for i, ax in enumerate(p.axes[0, :]):\n",
    "    ax.set_title(labels[i])\n",
    "\n",
    "for ax in p.axes[0, :]:\n",
    "    ax.set_xlabel(r\"$t$\")\n",
    "    \n",
    "p.figlegend.set_title(\"$c$\")\n",
    "\n",
    "plt.savefig(\"../figures/swe-bump-paper/nu-c-nlml-layout.pdf\", dpi=600)"
   ]
  },
  {
   "cell_type": "markdown",
   "id": "531bbb2d-059e-42a2-9b8d-f0321953c489",
   "metadata": {},
   "source": [
    "Now, we tabulate these results, first in a plot and then in a LaTeX table, to be plugged into the paper. Results confirm what the above plots suggest. Performance is best for the models which have the smaller viscosity parameters, and those with $c = 10$:"
   ]
  },
  {
   "cell_type": "code",
   "execution_count": null,
   "id": "dbea6dcb-52eb-4e53-bf53-a78cb34fa84b",
   "metadata": {},
   "outputs": [],
   "source": [
    "import matplotlib.colors as colors\n",
    "\n",
    "# mean the RMSEs, sum the LMLs\n",
    "total_rmse = errors_nonlinear.isel(nt_skip=3).mean(dim=\"t\").rmse_rel\n",
    "total_lml = np.abs(errors_nonlinear.isel(nt_skip=3).lml).sum(dim=\"t\")\n",
    "\n",
    "rmse_array = total_rmse.to_numpy()[:, :]\n",
    "lml_array = total_lml.to_numpy()[:, :]\n",
    "\n",
    "fig, ax = plt.subplots(1, 2, \n",
    "                       figsize=(10, 4), constrained_layout=True,\n",
    "                      sharey=True)\n",
    "im = ax[0].pcolormesh(range(len(total_rmse.coords[\"c\"].to_numpy())), \n",
    "                      range(len(total_rmse.coords[\"nu\"].to_numpy())),\n",
    "                      rmse_array,\n",
    "                      norm=colors.LogNorm(vmin=rmse_array.min(), \n",
    "                                          vmax=rmse_array.max()))\n",
    "ax[0].set_xticks(range(len(total_rmse.coords[\"c\"].to_numpy())), \n",
    "                 total_rmse.coords[\"c\"].to_numpy())\n",
    "ax[0].set_yticks(range(len(total_rmse.coords[\"nu\"].to_numpy())), \n",
    "                 total_rmse.coords[\"nu\"].to_numpy())\n",
    "ax[0].set_xlabel(r\"$c$\")\n",
    "ax[0].set_ylabel(r\"$\\nu$\")\n",
    "ax[0].set_title(\"Average Rel. RMSE\")\n",
    "plt.colorbar(im, ax=ax[0])\n",
    "\n",
    "im = ax[1].pcolormesh(range(len(total_lml.coords[\"c\"].to_numpy())), \n",
    "                      range(len(total_lml.coords[\"nu\"].to_numpy())),\n",
    "                      lml_array,\n",
    "                      norm=colors.LogNorm(vmin=lml_array.min(), \n",
    "                                          vmax=lml_array.max()))\n",
    "ax[1].set_xticks(range(len(total_lml.coords[\"c\"].to_numpy())), \n",
    "                 total_lml.coords[\"c\"].to_numpy())\n",
    "ax[1].set_yticks(range(len(total_lml.coords[\"nu\"].to_numpy())), \n",
    "                 total_lml.coords[\"nu\"].to_numpy())\n",
    "ax[1].set_xlabel(r\"$c$\")\n",
    "ax[1].set_title(\"Negative LML\")\n",
    "plt.colorbar(im, ax=ax[1])\n",
    "\n",
    "plt.savefig(\"../figures/swe-bump-paper/nu-c-rrmse-lml-table-color.pdf\", dpi=600)"
   ]
  },
  {
   "cell_type": "code",
   "execution_count": null,
   "id": "39290464-0792-4b5f-9f61-95ef895a9870",
   "metadata": {},
   "outputs": [],
   "source": [
    "lml_formatted = np.apply_along_axis(format_col, 0, lml_array, True)\n",
    "\n",
    "print(tabulate(lml_formatted, \n",
    "               headers=total_lml.coords['c'].to_numpy(),\n",
    "               showindex=total_lml.coords['nu'].to_numpy()))\n",
    "\n",
    "with open(\"../figures/swe-bump-paper/nu-c-lml-table.tex\", \"w\") as f:\n",
    "    f.write(tabulate(lml_formatted,\n",
    "                     headers=total_lml.coords['c'].to_numpy(),\n",
    "                     showindex=total_lml.coords['nu'].to_numpy(),\n",
    "                     tablefmt=\"latex_raw\"))"
   ]
  },
  {
   "cell_type": "markdown",
   "id": "b2491b6c-0ba5-4ffe-8c9c-11273a3e36ed",
   "metadata": {
    "tags": []
   },
   "source": [
    "## Development plots: leftovers that we use to check models\n",
    "Here, we plot the posterior. On the left, below, are the results for the linear model, and on the right are the results of the nonlinear model. Results are sensible with quite significant stratification across the $c$ values. We see that there is a reasonable drop in the relative errors in comparison to the prior:"
   ]
  },
  {
   "cell_type": "code",
   "execution_count": null,
   "id": "4d73ea8c-a657-424c-8416-2c64378c7a25",
   "metadata": {},
   "outputs": [],
   "source": [
    "errors_prior.rmse_rel.interpolate_na(dim=\"t\").isel(nu=[0, 1]).plot(\n",
    "    hue=\"c\", col=\"nu\", sharey=False)\n",
    "\n",
    "errors_nonlinear.rmse_rel.interpolate_na(dim=\"t\").isel(nt_skip=3, nu=[0, 1]).plot(\n",
    "    hue=\"c\", col=\"nu\", sharey=False, ylim=[0., 2.4])\n",
    "plt.show()"
   ]
  },
  {
   "cell_type": "markdown",
   "id": "d039dfc9-380f-4fe1-9111-557d8ce34a73",
   "metadata": {},
   "source": [
    "Next, we plot these same results, but we instead use the log-marginal likelihood as the metric. The stratification here becomes more apparent across the board:"
   ]
  },
  {
   "cell_type": "code",
   "execution_count": null,
   "id": "0cc2f08d-3b3a-47ba-a572-89ac3418af10",
   "metadata": {},
   "outputs": [],
   "source": [
    "np.abs(errors_nonlinear).lml.interpolate_na(dim=\"t\").isel(nt_skip=3, nu=[0, 1]).plot(\n",
    "    hue=\"c\", col=\"nu\", sharey=False, yscale=\"log\")\n",
    "plt.show()"
   ]
  },
  {
   "cell_type": "markdown",
   "id": "f7ae38c4-20f3-47be-86ba-74eccf8f51c9",
   "metadata": {},
   "source": [
    "And now for total comparison we show all of these results, for all the $\\nu$ values:"
   ]
  },
  {
   "cell_type": "code",
   "execution_count": null,
   "id": "091e3f06-2811-47b3-bc76-447d07ed095a",
   "metadata": {},
   "outputs": [],
   "source": [
    "np.abs(errors_nonlinear.lml).isel(nt_skip=3).interpolate_na(dim=\"t\").plot(\n",
    "    hue=\"c\", col=\"nu\", sharey=True, yscale=\"log\")\n",
    "plt.show()"
   ]
  },
  {
   "cell_type": "markdown",
   "id": "1fd1d91c-f49e-49a6-a136-d392c7034423",
   "metadata": {},
   "source": [
    "Next, we plot the results for the true value of $c$, for the various values of $\\nu$. We see that there is a drastic change in the dynamics as we increase $\\nu \\geq 1$; once setting $\\nu = 1$ this induces a degree of mismatch which results in the model not improving *a posteriori*:"
   ]
  },
  {
   "cell_type": "code",
   "execution_count": null,
   "id": "20e44aa4-5c11-4ce6-b95e-905a1a552f4b",
   "metadata": {},
   "outputs": [],
   "source": [
    "nu = [0, 1, 2, 3, 4]\n",
    "fig, ax = plt.subplots(1, 2, constrained_layout=True, figsize=(10, 4), sharey=True)\n",
    "errors_prior.rmse_rel.isel(nu=nu, c=2).interpolate_na(dim=\"t\").plot(\n",
    "    hue=\"nu\", ax=ax[0], add_legend=False)\n",
    "ax[0].set_title(\"Prior, $c = 10$\")\n",
    "errors_nonlinear.rmse_rel.isel(nt_skip=3, nu=nu, c=2).interpolate_na(dim=\"t\").plot(\n",
    "    hue=\"nu\", ax=ax[1], add_legend=True)\n",
    "ax[1].set_title(\"Posterior, $c = 10$\")\n",
    "plt.show()"
   ]
  },
  {
   "cell_type": "markdown",
   "id": "b775633a-fa82-4f88-81cd-14591ca47cb0",
   "metadata": {},
   "source": [
    "Next, we plot the log-marginal likelihoods for the true value $c = 10$, again stratified across the different $\\nu$ values. In this case we see that there is a clear stratification as a result of the $\\nu$."
   ]
  },
  {
   "cell_type": "code",
   "execution_count": null,
   "id": "da2b6e6c-6c4c-4cbd-9843-4d741f61b7c0",
   "metadata": {},
   "outputs": [],
   "source": [
    "nu = nu\n",
    "np.abs(errors_nonlinear.lml).isel(nt_skip=3, nu=nu, c=2).interpolate_na(dim=\"t\").plot(\n",
    "    hue=\"nu\", add_legend=True, yscale=\"log\")\n",
    "plt.show()"
   ]
  },
  {
   "cell_type": "code",
   "execution_count": null,
   "id": "ebb97384-13bd-4b7e-9a24-dd8ed22e4335",
   "metadata": {},
   "outputs": [],
   "source": [
    "np.abs(errors_nonlinear.lml).isel(nt_skip=3, nu=nu).interpolate_na(dim=\"t\").plot(\n",
    "    hue=\"nu\", col=\"c\", sharey=True, yscale=\"log\")\n",
    "plt.show()"
   ]
  },
  {
   "cell_type": "code",
   "execution_count": null,
   "id": "6a341bd3-6d7c-4223-bcc4-88c48efc795b",
   "metadata": {},
   "outputs": [],
   "source": [
    "import matplotlib.colors as colors\n",
    "\n",
    "# mean the RMSEs, sum the LMLs\n",
    "total_rmse = errors_nonlinear.isel(nt_skip=3).mean(dim=\"t\").rmse_rel\n",
    "total_lml = np.abs(errors_nonlinear.isel(nt_skip=3).lml).sum(dim=\"t\")\n",
    "\n",
    "rmse_array = total_rmse.to_numpy()[:, :]\n",
    "lml_array = total_lml.to_numpy()[:, :]\n",
    "\n",
    "fig, ax = plt.subplots(1, 2, figsize=(10, 4), constrained_layout=True)\n",
    "im = ax[0].pcolormesh(range(len(total_rmse.coords[\"c\"].to_numpy())), \n",
    "                      range(len(total_rmse.coords[\"nu\"].to_numpy())),\n",
    "                      rmse_array,\n",
    "                      norm=colors.LogNorm(vmin=rmse_array.min(), \n",
    "                                          vmax=rmse_array.max()))\n",
    "ax[0].set_xticks(range(len(total_rmse.coords[\"c\"].to_numpy())), \n",
    "                 total_rmse.coords[\"c\"].to_numpy())\n",
    "ax[0].set_yticks(range(len(total_rmse.coords[\"nu\"].to_numpy())), \n",
    "                 total_rmse.coords[\"nu\"].to_numpy())\n",
    "ax[0].set_title(\"Average Rel. RMSE\")\n",
    "plt.colorbar(im, ax=ax[0])\n",
    "\n",
    "im = ax[1].pcolormesh(range(len(total_lml.coords[\"c\"].to_numpy())), \n",
    "                      range(len(total_lml.coords[\"nu\"].to_numpy())),\n",
    "                      lml_array,\n",
    "                      norm=colors.LogNorm(vmin=lml_array.min(), \n",
    "                                          vmax=lml_array.max()))\n",
    "ax[1].set_xticks(range(len(total_lml.coords[\"c\"].to_numpy())), \n",
    "                 total_lml.coords[\"c\"].to_numpy())\n",
    "ax[1].set_yticks(range(len(total_lml.coords[\"nu\"].to_numpy())), \n",
    "                 total_lml.coords[\"nu\"].to_numpy())\n",
    "ax[1].set_title(\"Negative LML\")\n",
    "plt.colorbar(im, ax=ax[1])\n",
    "plt.show()"
   ]
  },
  {
   "cell_type": "code",
   "execution_count": null,
   "id": "b5e3f8c2-d4d9-4e61-aa3a-e257f1c3a635",
   "metadata": {},
   "outputs": [],
   "source": [
    "total_lml.plot(marker=\"o\", col=\"nu\", yscale=\"log\", sharey=False)\n",
    "plt.show()"
   ]
  },
  {
   "cell_type": "code",
   "execution_count": null,
   "id": "224748b9-7a14-4581-81e4-85751106e4a8",
   "metadata": {},
   "outputs": [],
   "source": [
    "total_lml.plot(marker=\"o\", col=\"c\", xscale=\"symlog\", yscale=\"log\",sharey=False)\n",
    "plt.show()"
   ]
  },
  {
   "cell_type": "code",
   "execution_count": null,
   "id": "8a2082ce-c683-49f3-94b4-a3b2b95ae96f",
   "metadata": {},
   "outputs": [],
   "source": [
    "print(tabulate(total_lml, \n",
    "               headers=total_lml.coords['c'].to_numpy(),\n",
    "               showindex=total_lml.coords['nu'].to_numpy()))"
   ]
  },
  {
   "cell_type": "code",
   "execution_count": null,
   "id": "c06c68f2-52ff-44fc-9014-4084f5ac7a9b",
   "metadata": {},
   "outputs": [],
   "source": []
  }
 ],
 "metadata": {
  "kernelspec": {
   "display_name": "Python 3 (ipykernel)",
   "language": "python",
   "name": "python3"
  },
  "language_info": {
   "codemirror_mode": {
    "name": "ipython",
    "version": 3
   },
   "file_extension": ".py",
   "mimetype": "text/x-python",
   "name": "python",
   "nbconvert_exporter": "python",
   "pygments_lexer": "ipython3",
   "version": "3.10.5"
  }
 },
 "nbformat": 4,
 "nbformat_minor": 5
}
