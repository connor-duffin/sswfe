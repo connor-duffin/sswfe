{
 "cells": [
  {
   "cell_type": "code",
   "execution_count": 16,
   "id": "40f4dc7a-a2c2-4f03-9dfb-898c3672313d",
   "metadata": {},
   "outputs": [],
   "source": [
    "import numpy as np\n",
    "import matplotlib.pyplot as plt\n",
    "import fenics as fe\n",
    "\n",
    "from scipy.sparse import csr_matrix\n",
    "from scipy.sparse.linalg import splu\n",
    "\n",
    "from petsc4py import PETSc\n",
    "from slepc4py import SLEPc\n",
    "\n",
    "# my own (keep commented out for repro)\n",
    "from statfenics.utils import dolfin_to_csr\n",
    "from statfenics.covariance import sq_exp_spectral_density\n",
    "\n",
    "def boundary(x, on_boundary):\n",
    "    return on_boundary"
   ]
  },
  {
   "cell_type": "code",
   "execution_count": 17,
   "id": "673d86a8-560a-4536-997e-1201837f5c16",
   "metadata": {},
   "outputs": [],
   "source": [
    "mesh = fe.RectangleMesh(\n",
    "    fe.Point(0, 0), fe.Point(1, 1), 128, 128)\n",
    "V = fe.VectorFunctionSpace(mesh, \"CG\", 2)\n",
    "element = fe.VectorElement(\"P\", mesh.ufl_cell(), 2)\n",
    "\n",
    "u_dofs = V.sub(0).dofmap().dofs()\n",
    "v_dofs = V.sub(1).dofmap().dofs()"
   ]
  },
  {
   "cell_type": "code",
   "execution_count": 18,
   "id": "cfb1fb8d-1979-4bee-9b49-5efabc2f4568",
   "metadata": {},
   "outputs": [
    {
     "ename": "Error",
     "evalue": "error code 71",
     "output_type": "error",
     "traceback": [
      "\u001b[0;31m---------------------------------------------------------------------------\u001b[0m",
      "\u001b[0;31mError\u001b[0m                                     Traceback (most recent call last)",
      "Input \u001b[0;32mIn [18]\u001b[0m, in \u001b[0;36m<cell line: 34>\u001b[0;34m()\u001b[0m\n\u001b[1;32m     32\u001b[0m S \u001b[38;5;241m=\u001b[39m E\u001b[38;5;241m.\u001b[39mgetST()\n\u001b[1;32m     33\u001b[0m S\u001b[38;5;241m.\u001b[39msetType(\u001b[38;5;124m\"\u001b[39m\u001b[38;5;124msinvert\u001b[39m\u001b[38;5;124m\"\u001b[39m)\n\u001b[0;32m---> 34\u001b[0m \u001b[43mE\u001b[49m\u001b[38;5;241;43m.\u001b[39;49m\u001b[43msolve\u001b[49m\u001b[43m(\u001b[49m\u001b[43m)\u001b[49m\n\u001b[1;32m     36\u001b[0m \u001b[38;5;66;03m# check that things have converged\u001b[39;00m\n\u001b[1;32m     37\u001b[0m \u001b[38;5;28mprint\u001b[39m(\u001b[38;5;124mf\u001b[39m\u001b[38;5;124m\"\u001b[39m\u001b[38;5;124mEigenvalues converged: \u001b[39m\u001b[38;5;132;01m{\u001b[39;00mE\u001b[38;5;241m.\u001b[39mgetConverged()\u001b[38;5;132;01m}\u001b[39;00m\u001b[38;5;124m\"\u001b[39m)\n",
      "File \u001b[0;32mSLEPc/EPS.pyx:1251\u001b[0m, in \u001b[0;36mslepc4py.SLEPc.EPS.solve\u001b[0;34m()\u001b[0m\n",
      "\u001b[0;31mError\u001b[0m: error code 71"
     ]
    }
   ],
   "source": [
    "k = 32\n",
    "bc = fe.DirichletBC(V, fe.Constant((0, 0)), boundary)\n",
    "\n",
    "u1, u2 = fe.TrialFunctions(V)\n",
    "q1, q2 = fe.TestFunctions(V)\n",
    "\n",
    "a = (fe.inner(fe.grad(u1), fe.grad(q1)) * fe.dx)\n",
    "A = fe.PETScMatrix()\n",
    "fe.assemble(a, tensor=A)\n",
    "\n",
    "M = fe.PETScMatrix()\n",
    "fe.assemble(\n",
    "    fe.inner(u1, q1) * fe.dx + fe.inner(u2, q2) * fe.dx, \n",
    "    tensor=M)\n",
    "\n",
    "# sets BC rows of A to identity and sets rows of M to zeros\n",
    "bc.apply(A)\n",
    "bc.zero(M)\n",
    "\n",
    "M = M.mat()\n",
    "A = A.mat()\n",
    "\n",
    "# solver inspired by: cmaurini\n",
    "# https://gist.github.com/cmaurini/6dea21fc01c6a07caeb96ff9c86dc81e\n",
    "E = SLEPc.EPS()\n",
    "E.create()\n",
    "E.setOperators(A)\n",
    "E.setDimensions(nev=k, ncv=2*k)\n",
    "E.setWhichEigenpairs(E.Which.TARGET_MAGNITUDE)\n",
    "E.setTarget(0)\n",
    "E.setTolerances(1e-12, 100_000)\n",
    "S = E.getST()\n",
    "S.setType(\"sinvert\")\n",
    "E.solve()\n",
    "\n",
    "# check that things have converged\n",
    "print(f\"Eigenvalues converged: {E.getConverged()}\")\n",
    "\n",
    "# and set up objects for storage\n",
    "vr, wr = A.getVecs()\n",
    "vi, wi = A.getVecs()\n",
    "\n",
    "laplace_eigenvals = np.zeros((k, ))\n",
    "eigenvecs = np.zeros((vr.array_r.shape[0], k))\n",
    "errors = np.zeros((k, ))\n",
    "\n",
    "for i in range(k):\n",
    "    laplace_eigenvals[i] = np.real(E.getEigenpair(i, vr, vi))\n",
    "    eigenvecs[:, i] = vr.array_r\n",
    "    errors[i] = E.computeError(i)\n",
    "\n",
    "plt.plot(laplace_eigenvals, \".\")\n",
    "plt.show()\n",
    "\n",
    "# np.testing.assert_allclose(errors, 0, atol=1e-12)"
   ]
  },
  {
   "cell_type": "code",
   "execution_count": 14,
   "id": "27c0365b-390e-48f3-9f6d-fc2efca2eea7",
   "metadata": {},
   "outputs": [
    {
     "name": "stdout",
     "output_type": "stream",
     "text": [
      "[5.01763259e-01 9.20663672e-01 1.73879275e-01 8.13187250e-01\n",
      " 5.54526974e-04 9.89380747e-01 6.17372217e-01 3.63765398e-01\n",
      " 4.96432969e-01 5.48599640e-01 3.29606267e-01 6.38345447e-01\n",
      " 8.40450387e-01 2.36616209e-02 8.28227251e-01 3.07354148e-01\n",
      " 9.15424238e-01 1.37670534e-01 4.68996043e-01 4.32403211e-03\n",
      " 4.10528870e-01 4.58405352e-01 1.06891656e-02 9.90878118e-01\n",
      " 4.65570826e-01 5.97116456e-01 8.24626048e-01 9.13739312e-02\n",
      " 1.10914261e-01 8.52932279e-01 5.22679818e-01 9.47629777e-01]\n"
     ]
    },
    {
     "data": {
      "image/png": "[encoded data removed]",
      "text/plain": [
       "<Figure size 432x288 with 2 Axes>"
      ]
     },
     "metadata": {
      "needs_background": "light"
     },
     "output_type": "display_data"
    }
   ],
   "source": [
    "print((eigenvecs[v_dofs, :].T @ eigenvecs[v_dofs, :]).diagonal())\n",
    "\n",
    "im = plt.imshow(eigenvecs[u_dofs, :].T @ eigenvecs[u_dofs, :])\n",
    "plt.colorbar(im)\n",
    "plt.show()"
   ]
  },
  {
   "cell_type": "code",
   "execution_count": null,
   "id": "dc752d6e-937f-4fa1-87b6-e812206bf334",
   "metadata": {},
   "outputs": [],
   "source": []
  }
 ],
 "metadata": {
  "kernelspec": {
   "display_name": "Python 3 (ipykernel)",
   "language": "python",
   "name": "python3"
  },
  "language_info": {
   "codemirror_mode": {
    "name": "ipython",
    "version": 3
   },
   "file_extension": ".py",
   "mimetype": "text/x-python",
   "name": "python",
   "nbconvert_exporter": "python",
   "pygments_lexer": "ipython3",
   "version": "3.10.5"
  }
 },
 "nbformat": 4,
 "nbformat_minor": 5
}
