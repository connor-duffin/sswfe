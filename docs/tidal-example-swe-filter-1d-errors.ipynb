{
 "cells": [
  {
   "cell_type": "code",
   "execution_count": 1,
   "id": "40246925",
   "metadata": {},
   "outputs": [],
   "source": [
    "import h5py\n",
    "\n",
    "import fenics as fe\n",
    "import numpy as np\n",
    "import matplotlib.pyplot as plt\n",
    "\n",
    "import sys\n",
    "sys.path.insert(0, \"../scripts\")\n",
    "\n",
    "from statfenics.utils import build_observation_operator\n",
    "from swe import ShallowOne\n",
    "from swe_filter import ShallowOneEx"
   ]
  },
  {
   "cell_type": "code",
   "execution_count": 2,
   "id": "c6b5b156",
   "metadata": {},
   "outputs": [],
   "source": [
    "NX = 400\n",
    "DT = 2.5\n",
    "\n",
    "# set the observation system\n",
    "NT_WARMUP = 400\n",
    "NT = 1001\n",
    "NT_PRED = 100\n",
    "SIGMA_Y = 5e-3"
   ]
  },
  {
   "cell_type": "code",
   "execution_count": 3,
   "id": "3984c225",
   "metadata": {},
   "outputs": [],
   "source": [
    "def extract_components(swe):\n",
    "    u_out = swe.du.compute_vertex_values()[:(NX + 1)]\n",
    "    h_out = swe.du.compute_vertex_values()[(NX + 1):]\n",
    "    return u_out, h_out"
   ]
  },
  {
   "cell_type": "code",
   "execution_count": 4,
   "id": "76bf8ba7",
   "metadata": {},
   "outputs": [],
   "source": [
    "def compute_base_dataset(nu):\n",
    "    control = {\"nx\": NX, \"dt\": DT, \"theta\": 1.0, \"simulation\": \"tidal_flow\"}\n",
    "    params = {\"nu\": nu}\n",
    "    swe_dgp = ShallowOne(control, params)\n",
    "    \n",
    "    t = 0.\n",
    "    for i in range(NT_WARMUP):\n",
    "        t += swe_dgp.dt\n",
    "        swe_dgp.solve(t)\n",
    "    \n",
    "    du_init = swe_dgp.du.vector().get_local().copy()\n",
    "    nx_save = swe_dgp.du.compute_vertex_values()[(NX + 1):].shape[0]\n",
    "    h_obs = np.zeros((NT, nx_save))\n",
    "    \n",
    "    for i in range(NT):\n",
    "        t += swe_dgp.dt\n",
    "        swe_dgp.solve(t)\n",
    "        h_obs[i, :] = swe_dgp.du.compute_vertex_values()[(NX + 1):]\n",
    "        \n",
    "    return h_obs, du_init\n",
    "        \n",
    "h_obs, du_init = compute_base_dataset(1e-1)"
   ]
  },
  {
   "cell_type": "code",
   "execution_count": 5,
   "id": "f922f0b2",
   "metadata": {},
   "outputs": [],
   "source": [
    "def compute_errors(h_obs, du_init, nt_skip, nx_skip, final=False):\n",
    "    # setup dynamical systems\n",
    "    norm = np.linalg.norm\n",
    "    control = {\"nx\": NX, \"dt\": DT, \"theta\": 1.0, \"simulation\": \"tidal_flow\"}\n",
    "    params = {\"nu\": 1.}\n",
    "    swe_post = ShallowOneEx(control, params, {\"rho\": 1e-2, \"ell\": 1}, lr=False)\n",
    "\n",
    "    # build obs. operator\n",
    "    x_obs = swe_post.x_coords[::nx_skip]  # every 5th location\n",
    "    n_obs = len(x_obs)\n",
    "    y_obs = np.zeros((n_obs, ))\n",
    "    H_obs = build_observation_operator(x_obs, swe_post.W, sub=1, out=\"scipy\")\n",
    "\n",
    "    print(f\"Warming up for {NT_WARMUP} iterations\")\n",
    "    print(f\"Assimilating every {nt_skip} timesteps ({nt_skip * swe_post.dt:.3f} s)\")\n",
    "    print(f\"Observational noise has std. dev. {SIGMA_Y:.4e}\")\n",
    "    print(f\"Assimilating {H_obs.shape[0]} data points per time\")\n",
    "\n",
    "    # initialize from warmed-up iterations\n",
    "    t = NT_WARMUP * swe_post.dt\n",
    "    swe_post.du.vector().set_local(du_init)\n",
    "    swe_post.du_prev.vector().set_local(du_init)\n",
    "\n",
    "    if not final:\n",
    "        error_h = np.zeros((NT, ))\n",
    "\n",
    "    for i in range(NT):\n",
    "        t += swe_post.dt\n",
    "\n",
    "        swe_post.prediction_step(t)\n",
    "        if i % nt_skip == 0:\n",
    "            y_obs[:] = h_obs[i, ::nx_skip]\n",
    "            y_obs += SIGMA_Y * np.random.normal(size=(n_obs, ))\n",
    "            swe_post.update_step(y_obs, H_obs, SIGMA_Y)\n",
    "\n",
    "        swe_post.set_prev()\n",
    "        \n",
    "        if not final:\n",
    "            h_true = h_obs[i, :]\n",
    "            _, h_mean = extract_components(swe_post)\n",
    "            error_h[i] = norm(h_true - h_mean) / norm(h_true)\n",
    "            \n",
    "    if final:\n",
    "        h_true = h_obs[i, :]\n",
    "        _, h_mean = extract_components(swe_post)\n",
    "        error_h = norm(h_true - h_mean) / norm(h_true)\n",
    "        \n",
    "    return error_h"
   ]
  },
  {
   "cell_type": "code",
   "execution_count": 6,
   "id": "8b4f0b44",
   "metadata": {},
   "outputs": [
    {
     "name": "stdout",
     "output_type": "stream",
     "text": [
      "Warming up for 400 iterations\n",
      "Assimilating every 1 timesteps (2.500 s)\n",
      "Observational noise has std. dev. 5.0000e-03\n",
      "Assimilating 101 data points per time\n",
      "Warming up for 400 iterations\n",
      "Assimilating every 1 timesteps (2.500 s)\n",
      "Observational noise has std. dev. 5.0000e-03\n",
      "Assimilating 26 data points per time\n",
      "Warming up for 400 iterations\n",
      "Assimilating every 1 timesteps (2.500 s)\n",
      "Observational noise has std. dev. 5.0000e-03\n",
      "Assimilating 11 data points per time\n",
      "Warming up for 400 iterations\n",
      "Assimilating every 4 timesteps (10.000 s)\n",
      "Observational noise has std. dev. 5.0000e-03\n",
      "Assimilating 51 data points per time\n",
      "Warming up for 400 iterations\n",
      "Assimilating every 4 timesteps (10.000 s)\n",
      "Observational noise has std. dev. 5.0000e-03\n",
      "Assimilating 17 data points per time\n",
      "Warming up for 400 iterations\n",
      "Assimilating every 10 timesteps (25.000 s)\n",
      "Observational noise has std. dev. 5.0000e-03\n",
      "Assimilating 101 data points per time\n",
      "Warming up for 400 iterations\n",
      "Assimilating every 1 timesteps (2.500 s)\n",
      "Observational noise has std. dev. 5.0000e-03\n",
      "Assimilating 17 data points per time\n",
      "Warming up for 400 iterations\n",
      "Assimilating every 4 timesteps (10.000 s)\n",
      "Observational noise has std. dev. 5.0000e-03\n",
      "Assimilating 101 data points per time\n",
      "Warming up for 400 iterations\n",
      "Assimilating every 4 timesteps (10.000 s)\n",
      "Observational noise has std. dev. 5.0000e-03\n",
      "Assimilating 11 data points per time\n",
      "Warming up for 400 iterations\n",
      "Assimilating every 10 timesteps (25.000 s)\n",
      "Observational noise has std. dev. 5.0000e-03\n",
      "Assimilating 51 data points per time\n",
      "Warming up for 400 iterations\n",
      "Assimilating every 4 timesteps (10.000 s)\n",
      "Observational noise has std. dev. 5.0000e-03\n",
      "Assimilating 26 data points per time\n",
      "Warming up for 400 iterations\n",
      "Assimilating every 1 timesteps (2.500 s)\n",
      "Observational noise has std. dev. 5.0000e-03\n",
      "Assimilating 51 data points per time\n",
      "Warming up for 400 iterations\n",
      "Assimilating every 10 timesteps (25.000 s)\n",
      "Observational noise has std. dev. 5.0000e-03\n",
      "Assimilating 26 data points per time\n",
      "Warming up for 400 iterations\n",
      "Assimilating every 10 timesteps (25.000 s)\n",
      "Observational noise has std. dev. 5.0000e-03\n",
      "Assimilating 11 data points per time\n",
      "Warming up for 400 iterations\n",
      "Assimilating every 20 timesteps (50.000 s)\n",
      "Observational noise has std. dev. 5.0000e-03\n",
      "Assimilating 51 data points per time\n",
      "Warming up for 400 iterations\n",
      "Assimilating every 20 timesteps (50.000 s)\n",
      "Observational noise has std. dev. 5.0000e-03\n",
      "Assimilating 17 data points per time\n",
      "Warming up for 400 iterations\n",
      "Assimilating every 40 timesteps (100.000 s)\n",
      "Observational noise has std. dev. 5.0000e-03\n",
      "Assimilating 101 data points per time\n",
      "Warming up for 400 iterations\n",
      "Assimilating every 40 timesteps (100.000 s)\n",
      "Observational noise has std. dev. 5.0000e-03\n",
      "Assimilating 26 data points per time\n",
      "Warming up for 400 iterations\n",
      "Assimilating every 20 timesteps (50.000 s)\n",
      "Observational noise has std. dev. 5.0000e-03\n",
      "Assimilating 26 data points per time\n",
      "Warming up for 400 iterations\n",
      "Assimilating every 20 timesteps (50.000 s)\n",
      "Observational noise has std. dev. 5.0000e-03\n",
      "Assimilating 101 data points per time\n",
      "Warming up for 400 iterations\n",
      "Assimilating every 10 timesteps (25.000 s)\n",
      "Observational noise has std. dev. 5.0000e-03\n",
      "Assimilating 17 data points per time\n",
      "Warming up for 400 iterations\n",
      "Assimilating every 20 timesteps (50.000 s)\n",
      "Observational noise has std. dev. 5.0000e-03\n",
      "Assimilating 11 data points per time\n",
      "Warming up for 400 iterations\n",
      "Assimilating every 40 timesteps (100.000 s)\n",
      "Observational noise has std. dev. 5.0000e-03\n",
      "Assimilating 17 data points per time\n",
      "Warming up for 400 iterations\n",
      "Assimilating every 40 timesteps (100.000 s)\n",
      "Observational noise has std. dev. 5.0000e-03\n",
      "Assimilating 51 data points per time\n",
      "Warming up for 400 iterations\n",
      "Assimilating every 40 timesteps (100.000 s)\n",
      "Observational noise has std. dev. 5.0000e-03\n",
      "Assimilating 11 data points per time\n",
      "Warming up for 400 iterations\n",
      "Assimilating every 100 timesteps (250.000 s)\n",
      "Observational noise has std. dev. 5.0000e-03\n",
      "Assimilating 51 data points per time\n",
      "Warming up for 400 iterations\n",
      "Assimilating every 100 timesteps (250.000 s)\n",
      "Observational noise has std. dev. 5.0000e-03\n",
      "Assimilating 17 data points per time\n",
      "Warming up for 400 iterations\n",
      "Assimilating every 100 timesteps (250.000 s)\n",
      "Observational noise has std. dev. 5.0000e-03\n",
      "Assimilating 101 data points per time\n",
      "Warming up for 400 iterations\n",
      "Assimilating every 100 timesteps (250.000 s)\n",
      "Observational noise has std. dev. 5.0000e-03\n",
      "Assimilating 26 data points per time\n",
      "Warming up for 400 iterations\n",
      "Assimilating every 100 timesteps (250.000 s)\n",
      "Observational noise has std. dev. 5.0000e-03\n",
      "Assimilating 11 data points per time\n"
     ]
    }
   ],
   "source": [
    "from multiprocessing import Pool\n",
    "\n",
    "nt_skip = [1, 4, 10, 20, 40, 100]\n",
    "nx_skip = [4, 8, 16, 24, 40]\n",
    "\n",
    "args = []\n",
    "for nt in nt_skip:\n",
    "    for nx in nx_skip:\n",
    "        args.append([h_obs, du_init, nt, nx, True])\n",
    "\n",
    "\n",
    "p = Pool(6)\n",
    "errors = p.starmap(compute_errors, args)"
   ]
  },
  {
   "cell_type": "code",
   "execution_count": 7,
   "id": "d33102fb",
   "metadata": {},
   "outputs": [
    {
     "data": {
      "text/plain": [
       "0.0014585539550466028"
      ]
     },
     "execution_count": 7,
     "metadata": {},
     "output_type": "execute_result"
    }
   ],
   "source": [
    "errors[0]"
   ]
  },
  {
   "cell_type": "code",
   "execution_count": 8,
   "id": "facda35f",
   "metadata": {},
   "outputs": [
    {
     "name": "stdout",
     "output_type": "stream",
     "text": [
      "[[0.0014585539550466028, 0.004019458587631358, 0.003780990043420586, 0.007152996278251338, 0.004765536638283807], [0.0022560448947787255, 0.00274227094767456, 0.0028646578135126106, 0.005563864249692534, 0.006282492971753928], [0.0013892726557425208, 0.0037345639142087094, 0.003148683241660152, 0.0059434183977239066, 0.010189261380843528], [0.002346757150972655, 0.004357275026945274, 0.00439896662517396, 0.0040862415467443, 0.006623786043725754], [0.002106463117277141, 0.0036107967634522765, 0.006480561071447327, 0.0077495956072904885, 0.007213932865785069], [0.001520230891535534, 0.0032712581759071105, 0.008300673178129823, 0.007861373384760926, 0.004280923661954858]]\n"
     ]
    }
   ],
   "source": [
    "error_matrix = [[] for i in range(len(nt_skip))]\n",
    "\n",
    "idx = 0\n",
    "for i in range(len(nt_skip)):\n",
    "    for j in range(len(nx_skip)):\n",
    "        error_matrix[i].append(errors[idx])\n",
    "        idx += 1\n",
    "        \n",
    "print(error_matrix)"
   ]
  },
  {
   "cell_type": "code",
   "execution_count": 9,
   "id": "17ba2bdc",
   "metadata": {},
   "outputs": [
    {
     "data": {
      "image/png": "[encoded data removed]",
      "text/plain": [
       "<Figure size 432x288 with 1 Axes>"
      ]
     },
     "metadata": {
      "needs_background": "light"
     },
     "output_type": "display_data"
    }
   ],
   "source": [
    "for i in range(len(nt_skip)):\n",
    "    plt.plot(nx_skip, error_matrix[i], \"o-\", label=nt_skip[i])\n",
    "    \n",
    "plt.legend()\n",
    "plt.xlabel(\"Spatial observation sparsity\")\n",
    "plt.ylabel(\"Relative error\")\n",
    "plt.show()"
   ]
  },
  {
   "cell_type": "code",
   "execution_count": 10,
   "id": "9254a037",
   "metadata": {},
   "outputs": [
    {
     "data": {
      "image/png": "[encoded data removed]",
      "text/plain": [
       "<Figure size 432x288 with 2 Axes>"
      ]
     },
     "metadata": {
      "needs_background": "light"
     },
     "output_type": "display_data"
    }
   ],
   "source": [
    "fig, ax = plt.subplots()\n",
    "im = ax.imshow(error_matrix)\n",
    "\n",
    "# Show all ticks and label them with the respective list entries\n",
    "ax.set_xticks(np.arange(len(nx_skip)), labels=nx_skip)\n",
    "ax.set_yticks(np.arange(len(nt_skip)), labels=nt_skip)\n",
    "\n",
    "plt.colorbar(im, ax=ax)\n",
    "plt.show()"
   ]
  },
  {
   "cell_type": "code",
   "execution_count": null,
   "id": "7dfc2e6c",
   "metadata": {},
   "outputs": [],
   "source": []
  }
 ],
 "metadata": {
  "kernelspec": {
   "display_name": "Python 3 (ipykernel)",
   "language": "python",
   "name": "python3"
  },
  "language_info": {
   "codemirror_mode": {
    "name": "ipython",
    "version": 3
   },
   "file_extension": ".py",
   "mimetype": "text/x-python",
   "name": "python",
   "nbconvert_exporter": "python",
   "pygments_lexer": "ipython3",
   "version": "3.10.5"
  }
 },
 "nbformat": 4,
 "nbformat_minor": 5
}
