{
 "cells": [
  {
   "cell_type": "code",
   "execution_count": 1,
   "id": "60ecb116-453f-4c6b-8824-4a3ec3c90c2e",
   "metadata": {},
   "outputs": [],
   "source": [
    "import h5py\n",
    "\n",
    "import fenics as fe\n",
    "import numpy as np\n",
    "import matplotlib.pyplot as plt\n",
    "import xarray as xr\n",
    "\n",
    "import sys\n",
    "sys.path.insert(0, \"../scripts\")\n",
    "\n",
    "from swe import ShallowOne\n"
   ]
  },
  {
   "cell_type": "code",
   "execution_count": 2,
   "id": "b77596b8-071c-40db-b9f8-b896ba0a1a0c",
   "metadata": {},
   "outputs": [],
   "source": [
    "import os\n",
    "\n",
    "output_dir = \"../outputs/swe-tidal/\"\n",
    "output_files = [output_dir + f for f in os.listdir(output_dir)]\n"
   ]
  },
  {
   "cell_type": "code",
   "execution_count": 3,
   "id": "92e24af2-391c-4cdb-947a-b3216ac31fe4",
   "metadata": {},
   "outputs": [
    {
     "name": "stdout",
     "output_type": "stream",
     "text": [
      "dt 4.0\n",
      "nu 100.0\n",
      "count 5400\n",
      "signature b\"MixedElement(FiniteElement('Lagrange', interval, 2), FiniteElement('Lagrange', interval, 1))\"\n"
     ]
    }
   ],
   "source": [
    "NX = 400\n",
    "\n",
    "output_file = output_files[0]\n",
    "checkpoint = h5py.File(output_file)\n",
    "\n",
    "for k in checkpoint.attrs.keys():\n",
    "    print(k, checkpoint.attrs[k])\n",
    "\n",
    "for k in checkpoint[\"/du\"].attrs.keys():\n",
    "    print(k, checkpoint[\"/du\"].attrs[k])\n"
   ]
  },
  {
   "cell_type": "code",
   "execution_count": 4,
   "id": "1e8c6fba-215d-4952-87d1-3cb17234bce9",
   "metadata": {},
   "outputs": [
    {
     "name": "stdout",
     "output_type": "stream",
     "text": [
      "dt: 4.00, nx: 401\n"
     ]
    },
    {
     "ename": "NameError",
     "evalue": "name 'DT' is not defined",
     "output_type": "error",
     "traceback": [
      "\u001b[0;31m---------------------------------------------------------------------------\u001b[0m",
      "\u001b[0;31mNameError\u001b[0m                                 Traceback (most recent call last)",
      "Input \u001b[0;32mIn [4]\u001b[0m, in \u001b[0;36m<cell line: 8>\u001b[0;34m()\u001b[0m\n\u001b[1;32m      5\u001b[0m nx \u001b[38;5;241m=\u001b[39m x_grid\u001b[38;5;241m.\u001b[39mshape[\u001b[38;5;241m0\u001b[39m]\n\u001b[1;32m      7\u001b[0m \u001b[38;5;28mprint\u001b[39m(\u001b[38;5;124mf\u001b[39m\u001b[38;5;124m\"\u001b[39m\u001b[38;5;124mdt: \u001b[39m\u001b[38;5;132;01m{\u001b[39;00mdt\u001b[38;5;132;01m:\u001b[39;00m\u001b[38;5;124m.2f\u001b[39m\u001b[38;5;132;01m}\u001b[39;00m\u001b[38;5;124m, nx: \u001b[39m\u001b[38;5;132;01m{\u001b[39;00mnx\u001b[38;5;132;01m:\u001b[39;00m\u001b[38;5;124md\u001b[39m\u001b[38;5;132;01m}\u001b[39;00m\u001b[38;5;124m\"\u001b[39m)\n\u001b[0;32m----> 8\u001b[0m control \u001b[38;5;241m=\u001b[39m {\u001b[38;5;124m\"\u001b[39m\u001b[38;5;124mnx\u001b[39m\u001b[38;5;124m\"\u001b[39m: nx, \u001b[38;5;124m\"\u001b[39m\u001b[38;5;124mdt\u001b[39m\u001b[38;5;124m\"\u001b[39m: \u001b[43mDT\u001b[49m, \u001b[38;5;124m\"\u001b[39m\u001b[38;5;124mtheta\u001b[39m\u001b[38;5;124m\"\u001b[39m: \u001b[38;5;241m1.0\u001b[39m, \u001b[38;5;124m\"\u001b[39m\u001b[38;5;124msimulation\u001b[39m\u001b[38;5;124m\"\u001b[39m: \u001b[38;5;124m\"\u001b[39m\u001b[38;5;124mtidal_flow\u001b[39m\u001b[38;5;124m\"\u001b[39m}\n\u001b[1;32m      9\u001b[0m params \u001b[38;5;241m=\u001b[39m {\u001b[38;5;124m\"\u001b[39m\u001b[38;5;124mnu\u001b[39m\u001b[38;5;124m\"\u001b[39m: nu}\n\u001b[1;32m     10\u001b[0m swe \u001b[38;5;241m=\u001b[39m ShallowOne(control, params)\n",
      "\u001b[0;31mNameError\u001b[0m: name 'DT' is not defined"
     ]
    }
   ],
   "source": [
    "nu = checkpoint[\"/\"].attrs[\"nu\"]\n",
    "dt = checkpoint[\"/\"].attrs[\"dt\"]\n",
    "nt_out = checkpoint[\"/du\"].attrs[\"count\"]\n",
    "x_grid = checkpoint[\"/du/x_cell_dofs\"][:]\n",
    "nx = x_grid.shape[0]\n",
    "\n",
    "print(f\"dt: {dt:.2f}, nx: {nx:d}\")\n",
    "control = {\"nx\": nx, \"dt\": DT, \"theta\": 1.0, \"simulation\": \"tidal_flow\"}\n",
    "params = {\"nu\": nu}\n",
    "swe = ShallowOne(control, params)\n",
    "checkpoint.close()\n"
   ]
  },
  {
   "cell_type": "code",
   "execution_count": null,
   "id": "fd581774-66dc-423a-a6da-1b1e04db124a",
   "metadata": {},
   "outputs": [],
   "source": [
    "t = np.zeros((nt_out, ))\n",
    "u = np.zeros((nt_out, nx))\n",
    "h = np.zeros((nt_out, nx))\n",
    "\n",
    "fe_checkpoint = fe.HDF5File(fe.MPI.comm_world, output_file, \"r\")\n",
    "for i in range(nt_out):\n",
    "    vec_idx = f\"/du/vector_{i}\"\n"
   ]
  },
  {
   "cell_type": "code",
   "execution_count": null,
   "id": "651358c8-2674-4d71-91f1-44412a5b4421",
   "metadata": {},
   "outputs": [],
   "source": [
    "# for i in range(nt):\n",
    "#     vec_name = f\"/du/vector_{i + 1}\"\n",
    "#     checkpoint.read(swe.du, vec_name)  # read into du\n",
    "#     u1_curr, u2_curr, h_curr = extract_fields(swe, n_vertices)\n",
    "\n",
    "#     t[i] = checkpoint.attributes(vec_name)[\"timestamp\"]\n",
    "#     u1[i, :] = u1_curr\n",
    "#     u2[i, :] = u2_curr\n",
    "#     h[i, :] = h_curr\n",
    "\n",
    "# checkpoint.close()\n",
    "# attrs[\"nu\"]\n",
    "\n",
    "# data = np.random.rand(4, 3)\n",
    "# locs = [\"IA\", \"IL\", \"IN\"]\n",
    "# times = np.linspace(0, 1, 4)\n",
    "# foo = xr.DataArray(data, coords=[times, locs], dims=[\"time\", \"space\"])\n",
    "# print(foo)\n"
   ]
  },
  {
   "cell_type": "code",
   "execution_count": null,
   "id": "e2895f1b-27cd-4840-87b1-02bc23954319",
   "metadata": {},
   "outputs": [],
   "source": [
    "control = {\"nx\": args.nx,\n",
    "           \"dt\": args.dt,\n",
    "           \"theta\": 1.0,\n",
    "           \"simulation\": \"tidal_flow\"}\n",
    "params = {\"nu\": args.nu}\n",
    "swe = ShallowOne(control, params)\n",
    "swe.setup_checkpoint(args.output_file)\n"
   ]
  }
 ],
 "metadata": {
  "kernelspec": {
   "display_name": "Python 3 (ipykernel)",
   "language": "python",
   "name": "python3"
  },
  "language_info": {
   "codemirror_mode": {
    "name": "ipython",
    "version": 3
   },
   "file_extension": ".py",
   "mimetype": "text/x-python",
   "name": "python",
   "nbconvert_exporter": "python",
   "pygments_lexer": "ipython3",
   "version": "3.10.5"
  },
  "name": "Untitled1.ipynb"
 },
 "nbformat": 4,
 "nbformat_minor": 5
}
